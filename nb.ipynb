{
 "cells": [
  {
   "cell_type": "code",
   "execution_count": 11,
   "metadata": {},
   "outputs": [],
   "source": [
    "from python_scripts.functions import PinterestClient\n",
    "import pandas as pd\n",
    "import os\n",
    "import json\n",
    "import time"
   ]
  },
  {
   "cell_type": "code",
   "execution_count": 12,
   "metadata": {},
   "outputs": [],
   "source": [
    "def are_json_values_empty(json_file):\n",
    "    with open(json_file, 'r') as file:\n",
    "        data = json.load(file)\n",
    "        return all(value == '' or value is None for value in data.values())"
   ]
  },
  {
   "cell_type": "code",
   "execution_count": 13,
   "metadata": {},
   "outputs": [],
   "source": [
    "df_accounts = pd.read_excel('accounts_excel.xlsx')\n",
    "df_accounts['PATH TO IMAGES'] = df_accounts['PATH TO IMAGES'].str.strip('\"').replace(\"\\\\\",'/')\n",
    "\n",
    "if are_json_values_empty('paths.json') == True:\n",
    "    with open('paths_owner.json', 'r') as jfile:\n",
    "        data = json.load(jfile)\n",
    "else:\n",
    "    with open('paths.json', 'r') as jfile:\n",
    "        data = json.load(jfile)"
   ]
  },
  {
   "cell_type": "code",
   "execution_count": 6,
   "metadata": {},
   "outputs": [],
   "source": [
    "path_webdriver = data['WebDriver_Path'].replace('\\\\','/').strip()\n",
    "path_googlechrome = data['Chrome_Path'].replace('\\\\','/').strip()"
   ]
  },
  {
   "cell_type": "code",
   "execution_count": 14,
   "metadata": {},
   "outputs": [],
   "source": [
    "client = PinterestClient(webdriver_path = path_webdriver,\n",
    "                            chrome_exe_path = path_googlechrome)"
   ]
  },
  {
   "cell_type": "code",
   "execution_count": 15,
   "metadata": {},
   "outputs": [],
   "source": [
    "client.Initialize_WebDriver()"
   ]
  },
  {
   "cell_type": "code",
   "execution_count": 16,
   "metadata": {},
   "outputs": [
    {
     "name": "stdout",
     "output_type": "stream",
     "text": [
      "3.72\n"
     ]
    }
   ],
   "source": [
    "#1\n",
    "client.Open_Pinterest()"
   ]
  },
  {
   "cell_type": "code",
   "execution_count": 17,
   "metadata": {},
   "outputs": [
    {
     "name": "stdout",
     "output_type": "stream",
     "text": [
      "2.75\n",
      "0.59\n",
      "1.47\n",
      "5.97\n"
     ]
    }
   ],
   "source": [
    "#2\n",
    "client.Log_In(email = df_accounts.iloc[0]['PINTEREST EMAIL'],\n",
    "        password = df_accounts.iloc[0]['PINTEREST PASSWORD'])\n",
    "#3"
   ]
  },
  {
   "cell_type": "code",
   "execution_count": 18,
   "metadata": {},
   "outputs": [
    {
     "name": "stdout",
     "output_type": "stream",
     "text": [
      "1.99\n",
      "2.64\n"
     ]
    }
   ],
   "source": [
    "client.Create_Pin()"
   ]
  },
  {
   "cell_type": "code",
   "execution_count": 21,
   "metadata": {},
   "outputs": [
    {
     "data": {
      "text/plain": [
       "['    def Create_Pin(self):',\n",
       " '        try:',\n",
       " '            crear_button = WebDriverWait(self.driver, 10).until(',\n",
       " '                EC.element_to_be_clickable((By.XPATH, \"//span[contains(text(), \\'Create\\')]\"))',\n",
       " '            )',\n",
       " '            crear_button.click()',\n",
       " '',\n",
       " '            self.Random_Duration_Action(1.4,2.13)',\n",
       " '',\n",
       " '            crear_pin_button = WebDriverWait(self.driver, 10).until(',\n",
       " '            EC.element_to_be_clickable((By.XPATH, \"//span[contains(text(), \\'Create Pin\\')] | //div[contains(text(), \\'Create Pin\\')]\"))',\n",
       " '            )',\n",
       " '            crear_pin_button.click()',\n",
       " '',\n",
       " '        except Exception as e:',\n",
       " '            crear_button = WebDriverWait(self.driver, 10).until(',\n",
       " '                EC.element_to_be_clickable((By.XPATH, \"//div[contains(text(), \\'Business hub\\')]\"))',\n",
       " '            )',\n",
       " '            crear_button.click()',\n",
       " '',\n",
       " '            self.Random_Duration_Action(1.4,2.13)',\n",
       " '',\n",
       " '            crear_pin_button = WebDriverWait(self.driver, 10).until(',\n",
       " '            EC.element_to_be_clickable((By.XPATH, \"//span[contains(text(), \\'Create Pin\\')] | //div[contains(text(), \\'Create Pin\\')]\"))',\n",
       " '            )',\n",
       " '            crear_pin_button.click()',\n",
       " '',\n",
       " '        ',\n",
       " '        self.Random_Duration_Action(2,5)',\n",
       " '']"
      ]
     },
     "execution_count": 21,
     "metadata": {},
     "output_type": "execute_result"
    }
   ],
   "source": [
    "import inspect\n",
    "f = inspect.getsource(client.Create_Pin)\n",
    "f.split('\\n')"
   ]
  },
  {
   "cell_type": "code",
   "execution_count": 19,
   "metadata": {},
   "outputs": [
    {
     "data": {
      "text/plain": [
       "<bound method PinterestClient.Create_Pin of <python_scripts.functions.PinterestClient object at 0x000001B364BB3550>>"
      ]
     },
     "execution_count": 19,
     "metadata": {},
     "output_type": "execute_result"
    }
   ],
   "source": [
    "client.Create_Pin"
   ]
  },
  {
   "cell_type": "code",
   "execution_count": null,
   "metadata": {},
   "outputs": [],
   "source": [
    "#4\n",
    "client.Load_Images(path_to_imgs = df_accounts.iloc[0]['PATH TO IMAGES'])"
   ]
  },
  {
   "cell_type": "code",
   "execution_count": null,
   "metadata": {},
   "outputs": [],
   "source": [
    "client.Edit_Pins(title_ = df_accounts.iloc[0]['PINS TITLE'],\n",
    "            description_ = df_accounts.iloc[0]['PINS DESCRIPTION'],\n",
    "            link_ = df_accounts.iloc[0]['PINS LINK'])"
   ]
  },
  {
   "cell_type": "code",
   "execution_count": null,
   "metadata": {},
   "outputs": [],
   "source": [
    "\n",
    "number_of_pins = client.Count_Pins()\n",
    "#6\n",
    "client.Publish_Pins()\n",
    "client.Random_Duration_Action(\n",
    "    start =  int(number_of_pins) * 2.5,\n",
    "    end   = (int(number_of_pins) * 2.5) + 10\n",
    ")"
   ]
  },
  {
   "cell_type": "code",
   "execution_count": null,
   "metadata": {},
   "outputs": [],
   "source": [
    "#client.Delete_Images()"
   ]
  },
  {
   "cell_type": "code",
   "execution_count": null,
   "metadata": {},
   "outputs": [],
   "source": [
    "client.Random_Duration_Action(10,20)\n",
    "\n",
    "#7\n",
    "client.Log_Out()"
   ]
  },
  {
   "cell_type": "code",
   "execution_count": null,
   "metadata": {},
   "outputs": [],
   "source": [
    "client.Turn_Off_WebDriver()"
   ]
  }
 ],
 "metadata": {
  "kernelspec": {
   "display_name": "env",
   "language": "python",
   "name": "python3"
  },
  "language_info": {
   "codemirror_mode": {
    "name": "ipython",
    "version": 3
   },
   "file_extension": ".py",
   "mimetype": "text/x-python",
   "name": "python",
   "nbconvert_exporter": "python",
   "pygments_lexer": "ipython3",
   "version": "3.10.11"
  },
  "orig_nbformat": 4
 },
 "nbformat": 4,
 "nbformat_minor": 2
}
