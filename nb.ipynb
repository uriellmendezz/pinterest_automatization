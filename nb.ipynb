{
 "cells": [
  {
   "cell_type": "markdown",
   "metadata": {},
   "source": [
    "---"
   ]
  },
  {
   "cell_type": "code",
   "execution_count": 1,
   "metadata": {},
   "outputs": [],
   "source": [
    "from python_scripts.functions import PinterestClient\n",
    "import pandas as pd\n",
    "import os\n",
    "import json\n",
    "import time\n",
    "import json"
   ]
  },
  {
   "cell_type": "code",
   "execution_count": 2,
   "metadata": {},
   "outputs": [],
   "source": [
    "def are_json_values_empty(json_file):\n",
    "    with open(json_file, 'r') as file:\n",
    "        data = json.load(file)\n",
    "        return all(value == '' or value is None for value in data.values())"
   ]
  },
  {
   "cell_type": "code",
   "execution_count": 3,
   "metadata": {},
   "outputs": [],
   "source": [
    "df_accounts = pd.read_excel('accounts_excel.xlsx')\n",
    "df_accounts['PATH TO IMAGES'] = df_accounts['PATH TO IMAGES'].str.strip('\"').replace(\"\\\\\",'/')\n",
    "\n",
    "if are_json_values_empty('paths.json') == True:\n",
    "    with open('paths_owner.json', 'r') as jfile:\n",
    "        data = json.load(jfile)\n",
    "else:\n",
    "    with open('paths.json', 'r') as jfile:\n",
    "        data = json.load(jfile)\n",
    "\n",
    "path_webdriver = data['WebDriver_Path'].replace('\\\\','/').strip()\n",
    "path_googlechrome = data['Chrome_Path'].replace('\\\\','/').strip()\n",
    "\n",
    "client = PinterestClient(webdriver_path = path_webdriver,\n",
    "                        chrome_exe_path = path_googlechrome)"
   ]
  },
  {
   "cell_type": "code",
   "execution_count": 4,
   "metadata": {},
   "outputs": [],
   "source": [
    "client.Initialize_WebDriver()\n",
    "general_time_start = time.time()\n",
    "\n",
    "accounts = []\n",
    "total_pins = []\n",
    "time_executed = []\n",
    "\n",
    "imgs = []"
   ]
  },
  {
   "cell_type": "code",
   "execution_count": 5,
   "metadata": {},
   "outputs": [
    {
     "name": "stdout",
     "output_type": "stream",
     "text": [
      "3.08\n"
     ]
    }
   ],
   "source": [
    "number_account = 0\n",
    "start_time = time.time()\n",
    "#1\n",
    "client.Open_Pinterest()"
   ]
  },
  {
   "cell_type": "code",
   "execution_count": 6,
   "metadata": {},
   "outputs": [
    {
     "name": "stdout",
     "output_type": "stream",
     "text": [
      "2.76\n",
      "1.14\n",
      "1.95\n",
      "5.89\n"
     ]
    }
   ],
   "source": [
    "#2\n",
    "client.Log_In(email = df_accounts.iloc[number_account]['PINTEREST EMAIL'],\n",
    "        password = df_accounts.iloc[number_account]['PINTEREST PASSWORD'])"
   ]
  },
  {
   "cell_type": "code",
   "execution_count": 7,
   "metadata": {},
   "outputs": [
    {
     "name": "stdout",
     "output_type": "stream",
     "text": [
      "3.29\n"
     ]
    }
   ],
   "source": [
    "#3\n",
    "client.Create_Pin()"
   ]
  },
  {
   "cell_type": "code",
   "execution_count": 8,
   "metadata": {},
   "outputs": [
    {
     "name": "stdout",
     "output_type": "stream",
     "text": [
      "2.1\n",
      "1.24\n",
      "1.61\n",
      "0.83\n",
      "1.25\n",
      "2.3\n",
      "2.49\n",
      "14.3\n",
      "1.51\n",
      "1.14\n",
      "1.75\n",
      "0.98\n",
      "2.29\n",
      "2.3\n",
      "1.77\n",
      "2.27\n",
      "1.36\n",
      "1.48\n",
      "2.11\n",
      "1.4\n"
     ]
    },
    {
     "ename": "KeyboardInterrupt",
     "evalue": "",
     "output_type": "error",
     "traceback": [
      "\u001b[1;31m---------------------------------------------------------------------------\u001b[0m",
      "\u001b[1;31mKeyboardInterrupt\u001b[0m                         Traceback (most recent call last)",
      "\u001b[1;32mc:\\Documents\\pinterest_automatization\\nb.ipynb Cell 9\u001b[0m line \u001b[0;36m2\n\u001b[0;32m      <a href='vscode-notebook-cell:/c%3A/Documents/pinterest_automatization/nb.ipynb#Y100sZmlsZQ%3D%3D?line=0'>1</a>\u001b[0m \u001b[39m#4\u001b[39;00m\n\u001b[1;32m----> <a href='vscode-notebook-cell:/c%3A/Documents/pinterest_automatization/nb.ipynb#Y100sZmlsZQ%3D%3D?line=1'>2</a>\u001b[0m client\u001b[39m.\u001b[39;49mLoad_Images(\n\u001b[0;32m      <a href='vscode-notebook-cell:/c%3A/Documents/pinterest_automatization/nb.ipynb#Y100sZmlsZQ%3D%3D?line=2'>3</a>\u001b[0m     path_to_imgs \u001b[39m=\u001b[39;49m df_accounts\u001b[39m.\u001b[39;49miloc[number_account][\u001b[39m'\u001b[39;49m\u001b[39mPATH TO IMAGES\u001b[39;49m\u001b[39m'\u001b[39;49m],\n\u001b[0;32m      <a href='vscode-notebook-cell:/c%3A/Documents/pinterest_automatization/nb.ipynb#Y100sZmlsZQ%3D%3D?line=3'>4</a>\u001b[0m     title_ \u001b[39m=\u001b[39;49m df_accounts\u001b[39m.\u001b[39;49miloc[number_account][\u001b[39m'\u001b[39;49m\u001b[39mPINS TITLE\u001b[39;49m\u001b[39m'\u001b[39;49m],\n\u001b[0;32m      <a href='vscode-notebook-cell:/c%3A/Documents/pinterest_automatization/nb.ipynb#Y100sZmlsZQ%3D%3D?line=4'>5</a>\u001b[0m     description_ \u001b[39m=\u001b[39;49m df_accounts\u001b[39m.\u001b[39;49miloc[number_account][\u001b[39m'\u001b[39;49m\u001b[39mPINS DESCRIPTION\u001b[39;49m\u001b[39m'\u001b[39;49m],\n\u001b[0;32m      <a href='vscode-notebook-cell:/c%3A/Documents/pinterest_automatization/nb.ipynb#Y100sZmlsZQ%3D%3D?line=5'>6</a>\u001b[0m     link_ \u001b[39m=\u001b[39;49m df_accounts\u001b[39m.\u001b[39;49miloc[number_account][\u001b[39m'\u001b[39;49m\u001b[39mPINS LINK\u001b[39;49m\u001b[39m'\u001b[39;49m],\n\u001b[0;32m      <a href='vscode-notebook-cell:/c%3A/Documents/pinterest_automatization/nb.ipynb#Y100sZmlsZQ%3D%3D?line=6'>7</a>\u001b[0m     board_\u001b[39m=\u001b[39;49m\u001b[39m'\u001b[39;49m\u001b[39mcars\u001b[39;49m\u001b[39m'\u001b[39;49m)\n",
      "File \u001b[1;32mc:\\Documents\\pinterest_automatization\\python_scripts\\functions.py:147\u001b[0m, in \u001b[0;36mPinterestClient.Load_Images\u001b[1;34m(self, path_to_imgs, title_, description_, link_, board_)\u001b[0m\n\u001b[0;32m    145\u001b[0m link \u001b[39m=\u001b[39m \u001b[39mself\u001b[39m\u001b[39m.\u001b[39mdriver\u001b[39m.\u001b[39mfind_element(By\u001b[39m.\u001b[39mXPATH, \u001b[39m'\u001b[39m\u001b[39m//input[@placeholder=\u001b[39m\u001b[39m\"\u001b[39m\u001b[39mAdd a link\u001b[39m\u001b[39m\"\u001b[39m\u001b[39m]\u001b[39m\u001b[39m'\u001b[39m)\n\u001b[0;32m    146\u001b[0m link\u001b[39m.\u001b[39msend_keys(link_)\n\u001b[1;32m--> 147\u001b[0m \u001b[39mself\u001b[39;49m\u001b[39m.\u001b[39;49mRandom_Duration_Action(\u001b[39m0.5\u001b[39;49m, \u001b[39m2.5\u001b[39;49m)\n\u001b[0;32m    148\u001b[0m board \u001b[39m=\u001b[39m \u001b[39mself\u001b[39m\u001b[39m.\u001b[39mdriver\u001b[39m.\u001b[39mfind_element(By\u001b[39m.\u001b[39mXPATH, \u001b[39m'\u001b[39m\u001b[39m//button[@data-test-id=\u001b[39m\u001b[39m\"\u001b[39m\u001b[39mboard-dropdown-select-button\u001b[39m\u001b[39m\"\u001b[39m\u001b[39m]\u001b[39m\u001b[39m'\u001b[39m)\n\u001b[0;32m    149\u001b[0m board\u001b[39m.\u001b[39mclick()\n",
      "File \u001b[1;32mc:\\Documents\\pinterest_automatization\\python_scripts\\functions.py:60\u001b[0m, in \u001b[0;36mPinterestClient.Random_Duration_Action\u001b[1;34m(self, start, end)\u001b[0m\n\u001b[0;32m     58\u001b[0m random_number \u001b[39m=\u001b[39m random\u001b[39m.\u001b[39mchoice(lista_numeros)\n\u001b[0;32m     59\u001b[0m \u001b[39mprint\u001b[39m(random_number)\n\u001b[1;32m---> 60\u001b[0m \u001b[39mreturn\u001b[39;00m sleep(random_number)\n",
      "\u001b[1;31mKeyboardInterrupt\u001b[0m: "
     ]
    }
   ],
   "source": [
    "#4\n",
    "client.Load_Images(\n",
    "    path_to_imgs = df_accounts.iloc[number_account]['PATH TO IMAGES'],\n",
    "    title_ = df_accounts.iloc[number_account]['PINS TITLE'],\n",
    "    description_ = df_accounts.iloc[number_account]['PINS DESCRIPTION'],\n",
    "    link_ = df_accounts.iloc[number_account]['PINS LINK'],\n",
    "    board_='cars')"
   ]
  },
  {
   "cell_type": "code",
   "execution_count": null,
   "metadata": {},
   "outputs": [],
   "source": [
    "\n",
    "\n",
    "\n",
    "\n",
    "images = client.Get_Images()\n",
    "for img in images:\n",
    "    imgs.append(img)\n",
    "\n",
    "client.Random_Duration_Action(10,20)\n",
    "\n",
    "#7\n",
    "client.Log_Out()\n",
    "\n",
    "finish_time = time.time()\n",
    "\n",
    "total_time = client.duration(start_time,finish_time)\n",
    "\n",
    "accounts.append(df_accounts.iloc[number_account]['ACCOUNT NAME'])\n",
    "total_pins.append('x')\n",
    "time_executed.append(total_time)\n",
    "\n",
    "break\n",
    "\n",
    "if number_account == len(df_accounts):\n",
    "    break\n",
    "else:\n",
    "    client.Random_Duration_Action(36,78)"
   ]
  },
  {
   "cell_type": "code",
   "execution_count": null,
   "metadata": {},
   "outputs": [],
   "source": [
    "general_time_finish = time.time()\n",
    "total_general_time = client.duration(general_time_start, general_time_finish)\n",
    "\n",
    "body = ''\n",
    "for i,e in enumerate(accounts):\n",
    "    message = f'''Account: {e}\\n - Total Pins uploaded: {total_pins[i]}\\n - Process duration: {time_executed[i]}\\n\\n'''\n",
    "    body += message\n",
    "\n",
    "body += f'\\nProcess total duration: {total_general_time}'\n",
    "\n",
    "client.Send_Email(\n",
    "    receiver_email = df_accounts.iloc[number_account]['YOUR GMAIL'],\n",
    "    subject='Uploading Pins to Pinterest',\n",
    "    body=body\n",
    ")\n",
    "\n",
    "for i in imgs:\n",
    "    try:\n",
    "        os.remove(i)\n",
    "    except Exception:\n",
    "        pass\n",
    "\n",
    "client.Turn_Off_WebDriver()"
   ]
  }
 ],
 "metadata": {
  "kernelspec": {
   "display_name": "env",
   "language": "python",
   "name": "python3"
  },
  "language_info": {
   "codemirror_mode": {
    "name": "ipython",
    "version": 3
   },
   "file_extension": ".py",
   "mimetype": "text/x-python",
   "name": "python",
   "nbconvert_exporter": "python",
   "pygments_lexer": "ipython3",
   "version": "3.10.11"
  },
  "orig_nbformat": 4
 },
 "nbformat": 4,
 "nbformat_minor": 2
}
