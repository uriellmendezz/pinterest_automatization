{
 "cells": [
  {
   "cell_type": "code",
   "execution_count": 1,
   "metadata": {},
   "outputs": [],
   "source": [
    "import pandas as pd\n",
    "import requests\n",
    "from time import sleep\n",
    "\n",
    "from selenium import webdriver\n",
    "from selenium.webdriver.common.by import By\n",
    "from selenium.webdriver.support.ui import WebDriverWait\n",
    "from selenium.webdriver.support import expected_conditions as EC\n",
    "from selenium.webdriver.common.keys import Keys\n",
    "from selenium.webdriver.chrome.options import Options\n",
    "from selenium.webdriver.common.action_chains import ActionChains"
   ]
  },
  {
   "cell_type": "code",
   "execution_count": 2,
   "metadata": {},
   "outputs": [],
   "source": [
    "path_to_chromedriver = 'C:/Users/uriel/Downloads/chromedriver-win64/chromedriver-win64/chromedriver.exe'\n",
    "path_to_brave_executable = 'C:/Program Files/Google/Chrome/Application/chrome.exe'"
   ]
  },
  {
   "cell_type": "markdown",
   "metadata": {},
   "source": [
    "# Iniciar sesion con Correo Electronico"
   ]
  },
  {
   "cell_type": "markdown",
   "metadata": {},
   "source": [
    "1. Abrir el WebDriver"
   ]
  },
  {
   "cell_type": "code",
   "execution_count": 14,
   "metadata": {},
   "outputs": [
    {
     "name": "stderr",
     "output_type": "stream",
     "text": [
      "C:\\Users\\uriel\\AppData\\Local\\Temp\\ipykernel_9232\\2718599869.py:4: DeprecationWarning: executable_path has been deprecated, please pass in a Service object\n",
      "  driver = webdriver.Chrome(path_to_chromedriver, options = options)\n"
     ]
    }
   ],
   "source": [
    "options = webdriver.ChromeOptions()\n",
    "options.add_argument('start-maximized')\n",
    "options.binary_location = path_to_brave_executable\n",
    "driver = webdriver.Chrome(path_to_chromedriver, options = options)\n",
    "driver.get('https://ar.pinterest.com/')"
   ]
  },
  {
   "cell_type": "markdown",
   "metadata": {},
   "source": [
    "2. Inicio de sesion"
   ]
  },
  {
   "cell_type": "code",
   "execution_count": 4,
   "metadata": {},
   "outputs": [],
   "source": [
    "# 1. INICIAR SESION EN PINTEREST\n",
    "login_button = WebDriverWait(driver, 10).until(\n",
    "    EC.element_to_be_clickable((By.XPATH, \"//div[contains(text(), 'Iniciar sesión')]\"))\n",
    ")\n",
    "login_button.click()\n",
    "\n",
    "# Encuentra los campos de usuario y contraseña e ingrésalos\n",
    "username_field = driver.find_element(By.NAME, 'id')\n",
    "password_field = driver.find_element(By.NAME, 'password')\n",
    "\n",
    "# Ingresa tu nombre de usuario y contraseña\n",
    "username = 'urielemilianomendez@hotmail.com'\n",
    "password = 'xxxxxxx'\n",
    "username_field.send_keys(username)\n",
    "password_field.send_keys(password)\n",
    "\n",
    "# Envía las teclas \"Enter\" para enviar el formulario de inicio de sesión\n",
    "sleep(3)\n",
    "\n",
    "password_field.send_keys(Keys.ENTER)\n",
    "\n",
    "sleep(3)"
   ]
  },
  {
   "cell_type": "markdown",
   "metadata": {},
   "source": [
    "3. Crear pin boton"
   ]
  },
  {
   "cell_type": "code",
   "execution_count": 39,
   "metadata": {},
   "outputs": [],
   "source": [
    "# 2. PULSAR EL BOTON DE 'CREAR' PARA CREAR UN PIN\n",
    "\n",
    "crear_button = WebDriverWait(driver, 10).until(\n",
    "    EC.element_to_be_clickable((By.XPATH, \"//span[contains(text(), 'Crear')]\"))\n",
    ")\n",
    "crear_button.click()\n",
    "\n",
    "crear_pin_button = WebDriverWait(driver, 10).until(\n",
    "    EC.element_to_be_clickable((By.XPATH, \"//span[contains(text(), 'Crear Pin')]\"))\n",
    ")\n",
    "crear_pin_button.click()\n",
    "\n",
    "sleep(3)"
   ]
  },
  {
   "cell_type": "markdown",
   "metadata": {},
   "source": [
    "4. Cargar datos del pin"
   ]
  },
  {
   "cell_type": "code",
   "execution_count": 40,
   "metadata": {},
   "outputs": [],
   "source": [
    "# Cargar Imagen del Pin\n",
    "file_input = driver.find_element(By.XPATH, \"//input[@aria-label='Carga de archivo']\")\n",
    "\n",
    "# Enviar la ruta del archivo al elemento de entrada de archivo\n",
    "file_input.send_keys('C:/Documents/Pinterest Project/Foto Perfil Henry 2.png')\n",
    "\n",
    "# Esperar un momento para que la carga de archivos se complete (puedes ajustar este tiempo según sea necesario)\n",
    "driver.implicitly_wait(10)\n",
    "\n",
    "titulo = driver.find_element(By.XPATH, \"//textarea[@placeholder='Agrega un título']\")\n",
    "\n",
    "# Ingresa tu nombre de usuario y contraseña\n",
    "username = 'Este es el titulo'\n",
    "titulo.send_keys(username)\n",
    "\n",
    "desc = driver.find_element(By.XPATH, \"//div[@aria-label='Cuéntales a todos de qué se trata tu Pin']\")\n",
    "\n",
    "texto = 'Esta es la descripcion que elegi'\n",
    "desc.send_keys(texto)\n",
    "\n",
    "# Guardar\n",
    "guardar_button = WebDriverWait(driver, 10).until(\n",
    "    EC.element_to_be_clickable((By.XPATH, \"//div[contains(text(), 'Guardar')]\"))\n",
    ")\n",
    "guardar_button.click()"
   ]
  },
  {
   "cell_type": "markdown",
   "metadata": {},
   "source": [
    "5. Ver ahora boton"
   ]
  },
  {
   "cell_type": "code",
   "execution_count": 41,
   "metadata": {},
   "outputs": [],
   "source": [
    "ver_ahora = WebDriverWait(driver, 10).until(\n",
    "    EC.element_to_be_clickable((By.XPATH, \"//div[contains(text(), 'Ver ahora')]\"))\n",
    ")\n",
    "ver_ahora.click()"
   ]
  },
  {
   "cell_type": "markdown",
   "metadata": {},
   "source": [
    "# LOOP FINAL"
   ]
  },
  {
   "cell_type": "code",
   "execution_count": 46,
   "metadata": {},
   "outputs": [
    {
     "name": "stderr",
     "output_type": "stream",
     "text": [
      "C:\\Users\\uriel\\AppData\\Local\\Temp\\ipykernel_9232\\3358994748.py:4: DeprecationWarning: executable_path has been deprecated, please pass in a Service object\n",
      "  driver = webdriver.Chrome(path_to_chromedriver, options = options)\n"
     ]
    }
   ],
   "source": [
    "options = webdriver.ChromeOptions()\n",
    "options.add_argument('start-maximized')\n",
    "options.binary_location = path_to_brave_executable\n",
    "driver = webdriver.Chrome(path_to_chromedriver, options = options)\n",
    "driver.get('https://ar.pinterest.com/')\n",
    "\n",
    "# 1. INICIAR SESION EN PINTEREST\n",
    "login_button = WebDriverWait(driver, 10).until(\n",
    "    EC.element_to_be_clickable((By.XPATH, \"//div[contains(text(), 'Iniciar sesión')]\"))\n",
    ")\n",
    "login_button.click()\n",
    "\n",
    "# Encuentra los campos de usuario y contraseña e ingrésalos\n",
    "username_field = driver.find_element(By.NAME, 'id')\n",
    "password_field = driver.find_element(By.NAME, 'password')\n",
    "\n",
    "# Ingresa tu nombre de usuario y contraseña\n",
    "username = 'urielemilianomendez@hotmail.com'\n",
    "password = 'Palito1045082757?'\n",
    "username_field.send_keys(username)\n",
    "password_field.send_keys(password)\n",
    "\n",
    "# Envía las teclas \"Enter\" para enviar el formulario de inicio de sesión\n",
    "sleep(3)\n",
    "\n",
    "password_field.send_keys(Keys.ENTER)\n",
    "\n",
    "sleep(3)"
   ]
  },
  {
   "cell_type": "code",
   "execution_count": 57,
   "metadata": {},
   "outputs": [
    {
     "name": "stderr",
     "output_type": "stream",
     "text": [
      "C:\\Users\\uriel\\AppData\\Local\\Temp\\ipykernel_9232\\2718599869.py:4: DeprecationWarning: executable_path has been deprecated, please pass in a Service object\n",
      "  driver = webdriver.Chrome(path_to_chromedriver, options = options)\n"
     ]
    }
   ],
   "source": [
    "options = webdriver.ChromeOptions()\n",
    "options.add_argument('start-maximized')\n",
    "options.binary_location = path_to_brave_executable\n",
    "driver = webdriver.Chrome(path_to_chromedriver, options = options)\n",
    "driver.get('https://ar.pinterest.com/')"
   ]
  },
  {
   "cell_type": "code",
   "execution_count": 56,
   "metadata": {},
   "outputs": [
    {
     "name": "stderr",
     "output_type": "stream",
     "text": [
      "C:\\Users\\uriel\\AppData\\Local\\Temp\\ipykernel_9232\\3520839693.py:4: DeprecationWarning: executable_path has been deprecated, please pass in a Service object\n",
      "  driver = webdriver.Chrome(path_to_chromedriver, options = options)\n"
     ]
    },
    {
     "ename": "KeyboardInterrupt",
     "evalue": "",
     "output_type": "error",
     "traceback": [
      "\u001b[1;31m---------------------------------------------------------------------------\u001b[0m",
      "\u001b[1;31mKeyboardInterrupt\u001b[0m                         Traceback (most recent call last)",
      "\u001b[1;32mc:\\Documents\\Pinterest Project\\API.ipynb Cell 16\u001b[0m line \u001b[0;36m4\n\u001b[0;32m     <a href='vscode-notebook-cell:/c%3A/Documents/Pinterest%20Project/API.ipynb#X33sZmlsZQ%3D%3D?line=34'>35</a>\u001b[0m crear_button \u001b[39m=\u001b[39m WebDriverWait(driver, \u001b[39m10\u001b[39m)\u001b[39m.\u001b[39muntil(\n\u001b[0;32m     <a href='vscode-notebook-cell:/c%3A/Documents/Pinterest%20Project/API.ipynb#X33sZmlsZQ%3D%3D?line=35'>36</a>\u001b[0m     EC\u001b[39m.\u001b[39melement_to_be_clickable((By\u001b[39m.\u001b[39mXPATH, \u001b[39m\"\u001b[39m\u001b[39m//span[contains(text(), \u001b[39m\u001b[39m'\u001b[39m\u001b[39mCrear\u001b[39m\u001b[39m'\u001b[39m\u001b[39m)]\u001b[39m\u001b[39m\"\u001b[39m))\n\u001b[0;32m     <a href='vscode-notebook-cell:/c%3A/Documents/Pinterest%20Project/API.ipynb#X33sZmlsZQ%3D%3D?line=36'>37</a>\u001b[0m )\n\u001b[0;32m     <a href='vscode-notebook-cell:/c%3A/Documents/Pinterest%20Project/API.ipynb#X33sZmlsZQ%3D%3D?line=37'>38</a>\u001b[0m crear_button\u001b[39m.\u001b[39mclick()\n\u001b[1;32m---> <a href='vscode-notebook-cell:/c%3A/Documents/Pinterest%20Project/API.ipynb#X33sZmlsZQ%3D%3D?line=39'>40</a>\u001b[0m crear_pin_button \u001b[39m=\u001b[39m WebDriverWait(driver, \u001b[39m10\u001b[39;49m)\u001b[39m.\u001b[39;49muntil(\n\u001b[0;32m     <a href='vscode-notebook-cell:/c%3A/Documents/Pinterest%20Project/API.ipynb#X33sZmlsZQ%3D%3D?line=40'>41</a>\u001b[0m     EC\u001b[39m.\u001b[39;49melement_to_be_clickable((By\u001b[39m.\u001b[39;49mXPATH, \u001b[39m\"\u001b[39;49m\u001b[39m//span[contains(text(), \u001b[39;49m\u001b[39m'\u001b[39;49m\u001b[39mCrear Pin\u001b[39;49m\u001b[39m'\u001b[39;49m\u001b[39m)]\u001b[39;49m\u001b[39m\"\u001b[39;49m))\n\u001b[0;32m     <a href='vscode-notebook-cell:/c%3A/Documents/Pinterest%20Project/API.ipynb#X33sZmlsZQ%3D%3D?line=41'>42</a>\u001b[0m )\n\u001b[0;32m     <a href='vscode-notebook-cell:/c%3A/Documents/Pinterest%20Project/API.ipynb#X33sZmlsZQ%3D%3D?line=42'>43</a>\u001b[0m crear_pin_button\u001b[39m.\u001b[39mclick()\n\u001b[0;32m     <a href='vscode-notebook-cell:/c%3A/Documents/Pinterest%20Project/API.ipynb#X33sZmlsZQ%3D%3D?line=44'>45</a>\u001b[0m sleep(\u001b[39m3\u001b[39m)\n",
      "File \u001b[1;32mc:\\Documents\\Pinterest Project\\env\\lib\\site-packages\\selenium\\webdriver\\support\\wait.py:86\u001b[0m, in \u001b[0;36mWebDriverWait.until\u001b[1;34m(self, method, message)\u001b[0m\n\u001b[0;32m     84\u001b[0m \u001b[39mwhile\u001b[39;00m \u001b[39mTrue\u001b[39;00m:\n\u001b[0;32m     85\u001b[0m     \u001b[39mtry\u001b[39;00m:\n\u001b[1;32m---> 86\u001b[0m         value \u001b[39m=\u001b[39m method(\u001b[39mself\u001b[39;49m\u001b[39m.\u001b[39;49m_driver)\n\u001b[0;32m     87\u001b[0m         \u001b[39mif\u001b[39;00m value:\n\u001b[0;32m     88\u001b[0m             \u001b[39mreturn\u001b[39;00m value\n",
      "File \u001b[1;32mc:\\Documents\\Pinterest Project\\env\\lib\\site-packages\\selenium\\webdriver\\support\\expected_conditions.py:334\u001b[0m, in \u001b[0;36melement_to_be_clickable.<locals>._predicate\u001b[1;34m(driver)\u001b[0m\n\u001b[0;32m    332\u001b[0m target \u001b[39m=\u001b[39m mark\n\u001b[0;32m    333\u001b[0m \u001b[39mif\u001b[39;00m \u001b[39mnot\u001b[39;00m \u001b[39misinstance\u001b[39m(target, WebElement):  \u001b[39m# if given locator instead of WebElement\u001b[39;00m\n\u001b[1;32m--> 334\u001b[0m     target \u001b[39m=\u001b[39m driver\u001b[39m.\u001b[39;49mfind_element(\u001b[39m*\u001b[39;49mtarget)  \u001b[39m# grab element at locator\u001b[39;00m\n\u001b[0;32m    335\u001b[0m target \u001b[39m=\u001b[39m visibility_of(target)(driver)\n\u001b[0;32m    336\u001b[0m \u001b[39mif\u001b[39;00m target \u001b[39mand\u001b[39;00m target\u001b[39m.\u001b[39mis_enabled():\n",
      "File \u001b[1;32mc:\\Documents\\Pinterest Project\\env\\lib\\site-packages\\selenium\\webdriver\\remote\\webdriver.py:831\u001b[0m, in \u001b[0;36mWebDriver.find_element\u001b[1;34m(self, by, value)\u001b[0m\n\u001b[0;32m    828\u001b[0m     by \u001b[39m=\u001b[39m By\u001b[39m.\u001b[39mCSS_SELECTOR\n\u001b[0;32m    829\u001b[0m     value \u001b[39m=\u001b[39m \u001b[39mf\u001b[39m\u001b[39m'\u001b[39m\u001b[39m[name=\u001b[39m\u001b[39m\"\u001b[39m\u001b[39m{\u001b[39;00mvalue\u001b[39m}\u001b[39;00m\u001b[39m\"\u001b[39m\u001b[39m]\u001b[39m\u001b[39m'\u001b[39m\n\u001b[1;32m--> 831\u001b[0m \u001b[39mreturn\u001b[39;00m \u001b[39mself\u001b[39;49m\u001b[39m.\u001b[39;49mexecute(Command\u001b[39m.\u001b[39;49mFIND_ELEMENT, {\u001b[39m\"\u001b[39;49m\u001b[39musing\u001b[39;49m\u001b[39m\"\u001b[39;49m: by, \u001b[39m\"\u001b[39;49m\u001b[39mvalue\u001b[39;49m\u001b[39m\"\u001b[39;49m: value})[\u001b[39m\"\u001b[39m\u001b[39mvalue\u001b[39m\u001b[39m\"\u001b[39m]\n",
      "File \u001b[1;32mc:\\Documents\\Pinterest Project\\env\\lib\\site-packages\\selenium\\webdriver\\remote\\webdriver.py:438\u001b[0m, in \u001b[0;36mWebDriver.execute\u001b[1;34m(self, driver_command, params)\u001b[0m\n\u001b[0;32m    435\u001b[0m     \u001b[39melif\u001b[39;00m \u001b[39m\"\u001b[39m\u001b[39msessionId\u001b[39m\u001b[39m\"\u001b[39m \u001b[39mnot\u001b[39;00m \u001b[39min\u001b[39;00m params:\n\u001b[0;32m    436\u001b[0m         params[\u001b[39m\"\u001b[39m\u001b[39msessionId\u001b[39m\u001b[39m\"\u001b[39m] \u001b[39m=\u001b[39m \u001b[39mself\u001b[39m\u001b[39m.\u001b[39msession_id\n\u001b[1;32m--> 438\u001b[0m response \u001b[39m=\u001b[39m \u001b[39mself\u001b[39;49m\u001b[39m.\u001b[39;49mcommand_executor\u001b[39m.\u001b[39;49mexecute(driver_command, params)\n\u001b[0;32m    439\u001b[0m \u001b[39mif\u001b[39;00m response:\n\u001b[0;32m    440\u001b[0m     \u001b[39mself\u001b[39m\u001b[39m.\u001b[39merror_handler\u001b[39m.\u001b[39mcheck_response(response)\n",
      "File \u001b[1;32mc:\\Documents\\Pinterest Project\\env\\lib\\site-packages\\selenium\\webdriver\\remote\\remote_connection.py:290\u001b[0m, in \u001b[0;36mRemoteConnection.execute\u001b[1;34m(self, command, params)\u001b[0m\n\u001b[0;32m    288\u001b[0m data \u001b[39m=\u001b[39m utils\u001b[39m.\u001b[39mdump_json(params)\n\u001b[0;32m    289\u001b[0m url \u001b[39m=\u001b[39m \u001b[39mf\u001b[39m\u001b[39m\"\u001b[39m\u001b[39m{\u001b[39;00m\u001b[39mself\u001b[39m\u001b[39m.\u001b[39m_url\u001b[39m}\u001b[39;00m\u001b[39m{\u001b[39;00mpath\u001b[39m}\u001b[39;00m\u001b[39m\"\u001b[39m\n\u001b[1;32m--> 290\u001b[0m \u001b[39mreturn\u001b[39;00m \u001b[39mself\u001b[39;49m\u001b[39m.\u001b[39;49m_request(command_info[\u001b[39m0\u001b[39;49m], url, body\u001b[39m=\u001b[39;49mdata)\n",
      "File \u001b[1;32mc:\\Documents\\Pinterest Project\\env\\lib\\site-packages\\selenium\\webdriver\\remote\\remote_connection.py:311\u001b[0m, in \u001b[0;36mRemoteConnection._request\u001b[1;34m(self, method, url, body)\u001b[0m\n\u001b[0;32m    308\u001b[0m     body \u001b[39m=\u001b[39m \u001b[39mNone\u001b[39;00m\n\u001b[0;32m    310\u001b[0m \u001b[39mif\u001b[39;00m \u001b[39mself\u001b[39m\u001b[39m.\u001b[39mkeep_alive:\n\u001b[1;32m--> 311\u001b[0m     response \u001b[39m=\u001b[39m \u001b[39mself\u001b[39;49m\u001b[39m.\u001b[39;49m_conn\u001b[39m.\u001b[39;49mrequest(method, url, body\u001b[39m=\u001b[39;49mbody, headers\u001b[39m=\u001b[39;49mheaders)\n\u001b[0;32m    312\u001b[0m     statuscode \u001b[39m=\u001b[39m response\u001b[39m.\u001b[39mstatus\n\u001b[0;32m    313\u001b[0m \u001b[39melse\u001b[39;00m:\n",
      "File \u001b[1;32mc:\\Documents\\Pinterest Project\\env\\lib\\site-packages\\urllib3\\request.py:78\u001b[0m, in \u001b[0;36mRequestMethods.request\u001b[1;34m(self, method, url, fields, headers, **urlopen_kw)\u001b[0m\n\u001b[0;32m     74\u001b[0m     \u001b[39mreturn\u001b[39;00m \u001b[39mself\u001b[39m\u001b[39m.\u001b[39mrequest_encode_url(\n\u001b[0;32m     75\u001b[0m         method, url, fields\u001b[39m=\u001b[39mfields, headers\u001b[39m=\u001b[39mheaders, \u001b[39m*\u001b[39m\u001b[39m*\u001b[39murlopen_kw\n\u001b[0;32m     76\u001b[0m     )\n\u001b[0;32m     77\u001b[0m \u001b[39melse\u001b[39;00m:\n\u001b[1;32m---> 78\u001b[0m     \u001b[39mreturn\u001b[39;00m \u001b[39mself\u001b[39m\u001b[39m.\u001b[39mrequest_encode_body(\n\u001b[0;32m     79\u001b[0m         method, url, fields\u001b[39m=\u001b[39mfields, headers\u001b[39m=\u001b[39mheaders, \u001b[39m*\u001b[39m\u001b[39m*\u001b[39murlopen_kw\n\u001b[0;32m     80\u001b[0m     )\n",
      "File \u001b[1;32mc:\\Documents\\Pinterest Project\\env\\lib\\site-packages\\urllib3\\request.py:170\u001b[0m, in \u001b[0;36mRequestMethods.request_encode_body\u001b[1;34m(self, method, url, fields, headers, encode_multipart, multipart_boundary, **urlopen_kw)\u001b[0m\n\u001b[0;32m    167\u001b[0m extra_kw[\u001b[39m\"\u001b[39m\u001b[39mheaders\u001b[39m\u001b[39m\"\u001b[39m]\u001b[39m.\u001b[39mupdate(headers)\n\u001b[0;32m    168\u001b[0m extra_kw\u001b[39m.\u001b[39mupdate(urlopen_kw)\n\u001b[1;32m--> 170\u001b[0m \u001b[39mreturn\u001b[39;00m \u001b[39mself\u001b[39m\u001b[39m.\u001b[39murlopen(method, url, \u001b[39m*\u001b[39m\u001b[39m*\u001b[39mextra_kw)\n",
      "File \u001b[1;32mc:\\Documents\\Pinterest Project\\env\\lib\\site-packages\\urllib3\\poolmanager.py:376\u001b[0m, in \u001b[0;36mPoolManager.urlopen\u001b[1;34m(self, method, url, redirect, **kw)\u001b[0m\n\u001b[0;32m    374\u001b[0m     response \u001b[39m=\u001b[39m conn\u001b[39m.\u001b[39murlopen(method, url, \u001b[39m*\u001b[39m\u001b[39m*\u001b[39mkw)\n\u001b[0;32m    375\u001b[0m \u001b[39melse\u001b[39;00m:\n\u001b[1;32m--> 376\u001b[0m     response \u001b[39m=\u001b[39m conn\u001b[39m.\u001b[39murlopen(method, u\u001b[39m.\u001b[39mrequest_uri, \u001b[39m*\u001b[39m\u001b[39m*\u001b[39mkw)\n\u001b[0;32m    378\u001b[0m redirect_location \u001b[39m=\u001b[39m redirect \u001b[39mand\u001b[39;00m response\u001b[39m.\u001b[39mget_redirect_location()\n\u001b[0;32m    379\u001b[0m \u001b[39mif\u001b[39;00m \u001b[39mnot\u001b[39;00m redirect_location:\n",
      "File \u001b[1;32mc:\\Documents\\Pinterest Project\\env\\lib\\site-packages\\urllib3\\connectionpool.py:714\u001b[0m, in \u001b[0;36mHTTPConnectionPool.urlopen\u001b[1;34m(self, method, url, body, headers, retries, redirect, assert_same_host, timeout, pool_timeout, release_conn, chunked, body_pos, **response_kw)\u001b[0m\n\u001b[0;32m    711\u001b[0m     \u001b[39mself\u001b[39m\u001b[39m.\u001b[39m_prepare_proxy(conn)\n\u001b[0;32m    713\u001b[0m \u001b[39m# Make the request on the httplib connection object.\u001b[39;00m\n\u001b[1;32m--> 714\u001b[0m httplib_response \u001b[39m=\u001b[39m \u001b[39mself\u001b[39;49m\u001b[39m.\u001b[39;49m_make_request(\n\u001b[0;32m    715\u001b[0m     conn,\n\u001b[0;32m    716\u001b[0m     method,\n\u001b[0;32m    717\u001b[0m     url,\n\u001b[0;32m    718\u001b[0m     timeout\u001b[39m=\u001b[39;49mtimeout_obj,\n\u001b[0;32m    719\u001b[0m     body\u001b[39m=\u001b[39;49mbody,\n\u001b[0;32m    720\u001b[0m     headers\u001b[39m=\u001b[39;49mheaders,\n\u001b[0;32m    721\u001b[0m     chunked\u001b[39m=\u001b[39;49mchunked,\n\u001b[0;32m    722\u001b[0m )\n\u001b[0;32m    724\u001b[0m \u001b[39m# If we're going to release the connection in ``finally:``, then\u001b[39;00m\n\u001b[0;32m    725\u001b[0m \u001b[39m# the response doesn't need to know about the connection. Otherwise\u001b[39;00m\n\u001b[0;32m    726\u001b[0m \u001b[39m# it will also try to release it and we'll have a double-release\u001b[39;00m\n\u001b[0;32m    727\u001b[0m \u001b[39m# mess.\u001b[39;00m\n\u001b[0;32m    728\u001b[0m response_conn \u001b[39m=\u001b[39m conn \u001b[39mif\u001b[39;00m \u001b[39mnot\u001b[39;00m release_conn \u001b[39melse\u001b[39;00m \u001b[39mNone\u001b[39;00m\n",
      "File \u001b[1;32mc:\\Documents\\Pinterest Project\\env\\lib\\site-packages\\urllib3\\connectionpool.py:466\u001b[0m, in \u001b[0;36mHTTPConnectionPool._make_request\u001b[1;34m(self, conn, method, url, timeout, chunked, **httplib_request_kw)\u001b[0m\n\u001b[0;32m    461\u001b[0m             httplib_response \u001b[39m=\u001b[39m conn\u001b[39m.\u001b[39mgetresponse()\n\u001b[0;32m    462\u001b[0m         \u001b[39mexcept\u001b[39;00m \u001b[39mBaseException\u001b[39;00m \u001b[39mas\u001b[39;00m e:\n\u001b[0;32m    463\u001b[0m             \u001b[39m# Remove the TypeError from the exception chain in\u001b[39;00m\n\u001b[0;32m    464\u001b[0m             \u001b[39m# Python 3 (including for exceptions like SystemExit).\u001b[39;00m\n\u001b[0;32m    465\u001b[0m             \u001b[39m# Otherwise it looks like a bug in the code.\u001b[39;00m\n\u001b[1;32m--> 466\u001b[0m             six\u001b[39m.\u001b[39;49mraise_from(e, \u001b[39mNone\u001b[39;49;00m)\n\u001b[0;32m    467\u001b[0m \u001b[39mexcept\u001b[39;00m (SocketTimeout, BaseSSLError, SocketError) \u001b[39mas\u001b[39;00m e:\n\u001b[0;32m    468\u001b[0m     \u001b[39mself\u001b[39m\u001b[39m.\u001b[39m_raise_timeout(err\u001b[39m=\u001b[39me, url\u001b[39m=\u001b[39murl, timeout_value\u001b[39m=\u001b[39mread_timeout)\n",
      "File \u001b[1;32m<string>:3\u001b[0m, in \u001b[0;36mraise_from\u001b[1;34m(value, from_value)\u001b[0m\n",
      "File \u001b[1;32mc:\\Documents\\Pinterest Project\\env\\lib\\site-packages\\urllib3\\connectionpool.py:461\u001b[0m, in \u001b[0;36mHTTPConnectionPool._make_request\u001b[1;34m(self, conn, method, url, timeout, chunked, **httplib_request_kw)\u001b[0m\n\u001b[0;32m    458\u001b[0m \u001b[39mexcept\u001b[39;00m \u001b[39mTypeError\u001b[39;00m:\n\u001b[0;32m    459\u001b[0m     \u001b[39m# Python 3\u001b[39;00m\n\u001b[0;32m    460\u001b[0m     \u001b[39mtry\u001b[39;00m:\n\u001b[1;32m--> 461\u001b[0m         httplib_response \u001b[39m=\u001b[39m conn\u001b[39m.\u001b[39;49mgetresponse()\n\u001b[0;32m    462\u001b[0m     \u001b[39mexcept\u001b[39;00m \u001b[39mBaseException\u001b[39;00m \u001b[39mas\u001b[39;00m e:\n\u001b[0;32m    463\u001b[0m         \u001b[39m# Remove the TypeError from the exception chain in\u001b[39;00m\n\u001b[0;32m    464\u001b[0m         \u001b[39m# Python 3 (including for exceptions like SystemExit).\u001b[39;00m\n\u001b[0;32m    465\u001b[0m         \u001b[39m# Otherwise it looks like a bug in the code.\u001b[39;00m\n\u001b[0;32m    466\u001b[0m         six\u001b[39m.\u001b[39mraise_from(e, \u001b[39mNone\u001b[39;00m)\n",
      "File \u001b[1;32mC:\\Program Files\\WindowsApps\\PythonSoftwareFoundation.Python.3.10_3.10.3056.0_x64__qbz5n2kfra8p0\\lib\\http\\client.py:1375\u001b[0m, in \u001b[0;36mHTTPConnection.getresponse\u001b[1;34m(self)\u001b[0m\n\u001b[0;32m   1373\u001b[0m \u001b[39mtry\u001b[39;00m:\n\u001b[0;32m   1374\u001b[0m     \u001b[39mtry\u001b[39;00m:\n\u001b[1;32m-> 1375\u001b[0m         response\u001b[39m.\u001b[39;49mbegin()\n\u001b[0;32m   1376\u001b[0m     \u001b[39mexcept\u001b[39;00m \u001b[39mConnectionError\u001b[39;00m:\n\u001b[0;32m   1377\u001b[0m         \u001b[39mself\u001b[39m\u001b[39m.\u001b[39mclose()\n",
      "File \u001b[1;32mC:\\Program Files\\WindowsApps\\PythonSoftwareFoundation.Python.3.10_3.10.3056.0_x64__qbz5n2kfra8p0\\lib\\http\\client.py:318\u001b[0m, in \u001b[0;36mHTTPResponse.begin\u001b[1;34m(self)\u001b[0m\n\u001b[0;32m    316\u001b[0m \u001b[39m# read until we get a non-100 response\u001b[39;00m\n\u001b[0;32m    317\u001b[0m \u001b[39mwhile\u001b[39;00m \u001b[39mTrue\u001b[39;00m:\n\u001b[1;32m--> 318\u001b[0m     version, status, reason \u001b[39m=\u001b[39m \u001b[39mself\u001b[39;49m\u001b[39m.\u001b[39;49m_read_status()\n\u001b[0;32m    319\u001b[0m     \u001b[39mif\u001b[39;00m status \u001b[39m!=\u001b[39m CONTINUE:\n\u001b[0;32m    320\u001b[0m         \u001b[39mbreak\u001b[39;00m\n",
      "File \u001b[1;32mC:\\Program Files\\WindowsApps\\PythonSoftwareFoundation.Python.3.10_3.10.3056.0_x64__qbz5n2kfra8p0\\lib\\http\\client.py:279\u001b[0m, in \u001b[0;36mHTTPResponse._read_status\u001b[1;34m(self)\u001b[0m\n\u001b[0;32m    278\u001b[0m \u001b[39mdef\u001b[39;00m \u001b[39m_read_status\u001b[39m(\u001b[39mself\u001b[39m):\n\u001b[1;32m--> 279\u001b[0m     line \u001b[39m=\u001b[39m \u001b[39mstr\u001b[39m(\u001b[39mself\u001b[39;49m\u001b[39m.\u001b[39;49mfp\u001b[39m.\u001b[39;49mreadline(_MAXLINE \u001b[39m+\u001b[39;49m \u001b[39m1\u001b[39;49m), \u001b[39m\"\u001b[39m\u001b[39miso-8859-1\u001b[39m\u001b[39m\"\u001b[39m)\n\u001b[0;32m    280\u001b[0m     \u001b[39mif\u001b[39;00m \u001b[39mlen\u001b[39m(line) \u001b[39m>\u001b[39m _MAXLINE:\n\u001b[0;32m    281\u001b[0m         \u001b[39mraise\u001b[39;00m LineTooLong(\u001b[39m\"\u001b[39m\u001b[39mstatus line\u001b[39m\u001b[39m\"\u001b[39m)\n",
      "File \u001b[1;32mC:\\Program Files\\WindowsApps\\PythonSoftwareFoundation.Python.3.10_3.10.3056.0_x64__qbz5n2kfra8p0\\lib\\socket.py:705\u001b[0m, in \u001b[0;36mSocketIO.readinto\u001b[1;34m(self, b)\u001b[0m\n\u001b[0;32m    703\u001b[0m \u001b[39mwhile\u001b[39;00m \u001b[39mTrue\u001b[39;00m:\n\u001b[0;32m    704\u001b[0m     \u001b[39mtry\u001b[39;00m:\n\u001b[1;32m--> 705\u001b[0m         \u001b[39mreturn\u001b[39;00m \u001b[39mself\u001b[39;49m\u001b[39m.\u001b[39;49m_sock\u001b[39m.\u001b[39;49mrecv_into(b)\n\u001b[0;32m    706\u001b[0m     \u001b[39mexcept\u001b[39;00m timeout:\n\u001b[0;32m    707\u001b[0m         \u001b[39mself\u001b[39m\u001b[39m.\u001b[39m_timeout_occurred \u001b[39m=\u001b[39m \u001b[39mTrue\u001b[39;00m\n",
      "\u001b[1;31mKeyboardInterrupt\u001b[0m: "
     ]
    }
   ],
   "source": [
    "options = webdriver.ChromeOptions()\n",
    "options.add_argument('start-maximized')\n",
    "options.binary_location = path_to_brave_executable\n",
    "driver = webdriver.Chrome(path_to_chromedriver, options = options)\n",
    "driver.get('https://ar.pinterest.com/')\n",
    "\n",
    "# 1. INICIAR SESION EN PINTEREST\n",
    "login_button = WebDriverWait(driver, 10).until(\n",
    "    EC.element_to_be_clickable((By.XPATH, \"//div[contains(text(), 'Iniciar sesión')]\"))\n",
    ")\n",
    "login_button.click()\n",
    "\n",
    "# Encuentra los campos de usuario y contraseña e ingrésalos\n",
    "username_field = driver.find_element(By.NAME, 'id')\n",
    "password_field = driver.find_element(By.NAME, 'password')\n",
    "\n",
    "# Ingresa tu nombre de usuario y contraseña\n",
    "username = 'urielemilianomendez@hotmail.com'\n",
    "password = 'Palito1045082757?'\n",
    "username_field.send_keys(username)\n",
    "password_field.send_keys(password)\n",
    "\n",
    "# Envía las teclas \"Enter\" para enviar el formulario de inicio de sesión\n",
    "sleep(3)\n",
    "\n",
    "password_field.send_keys(Keys.ENTER)\n",
    "\n",
    "sleep(3)\n",
    "\n",
    "titulos = ['TITULO 1', 'TITULO 2', 'TITULO 3', 'TITULO 4']\n",
    "\n",
    "for i,e in enumerate(titulos):\n",
    "    # 2. PULSAR EL BOTON DE 'CREAR' PARA CREAR UN PIN\n",
    "\n",
    "    crear_button = WebDriverWait(driver, 10).until(\n",
    "        EC.element_to_be_clickable((By.XPATH, \"//span[contains(text(), 'Crear')]\"))\n",
    "    )\n",
    "    crear_button.click()\n",
    "\n",
    "    crear_pin_button = WebDriverWait(driver, 10).until(\n",
    "        EC.element_to_be_clickable((By.XPATH, \"//span[contains(text(), 'Crear Pin')]\"))\n",
    "    )\n",
    "    crear_pin_button.click()\n",
    "\n",
    "    sleep(3)\n",
    "\n",
    "    # Cargar Imagen del Pin\n",
    "    file_input = driver.find_element(By.XPATH, \"//input[@aria-label='Carga de archivo']\")\n",
    "\n",
    "    # Enviar la ruta del archivo al elemento de entrada de archivo\n",
    "    file_input.send_keys('C:/Documents/Pinterest Project/Foto Perfil Henry 2.png')\n",
    "\n",
    "    # Esperar un momento para que la carga de archivos se complete (puedes ajustar este tiempo según sea necesario)\n",
    "    driver.implicitly_wait(10)\n",
    "\n",
    "    titulo = driver.find_element(By.XPATH, f\"//textarea[@placeholder='Agrega un título']\")\n",
    "\n",
    "    # Ingresa tu nombre de usuario y contraseña\n",
    "    username = 'Este es el titulo'\n",
    "    titulo.send_keys(e)\n",
    "\n",
    "    desc = driver.find_element(By.XPATH, \"//div[@aria-label='Cuéntales a todos de qué se trata tu Pin']\")\n",
    "\n",
    "    texto = 'Esta es la descripcion que elegi'\n",
    "    desc.send_keys(i)\n",
    "\n",
    "    # Guardar\n",
    "    guardar_button = WebDriverWait(driver, 10).until(\n",
    "        EC.element_to_be_clickable((By.XPATH, \"//div[contains(text(), 'Guardar')]\"))\n",
    "    )\n",
    "    guardar_button.click()\n",
    "\n",
    "    sleep(5)\n",
    "\n",
    "    driver.get('https://ar.pinterest.com/')\n",
    "\n",
    "    sleep(5)\n",
    "\n",
    "driver.quit()\n"
   ]
  },
  {
   "cell_type": "code",
   "execution_count": 52,
   "metadata": {},
   "outputs": [],
   "source": [
    "# Coordenadas específicas\n",
    "x = 10\n",
    "y = 150\n",
    "\n",
    "# Crear una acción de movimiento del ratón y hacer clic en las coordenadas especificadas\n",
    "actions = ActionChains(driver)\n",
    "actions.move_by_offset(x, y).click().perform()"
   ]
  },
  {
   "cell_type": "markdown",
   "metadata": {},
   "source": [
    "---"
   ]
  },
  {
   "cell_type": "code",
   "execution_count": 5,
   "metadata": {},
   "outputs": [
    {
     "ename": "InvalidSelectorException",
     "evalue": "Message: invalid selector: Unable to locate an element with the xpath expression //textarea[@placeholder]=\"Agrega un título\" because of the following error:\nTypeError: Failed to execute 'evaluate' on 'Document': The result is not a node set, and therefore cannot be converted to the desired type.\n  (Session info: chrome=117.0.5938.89)\nStacktrace:\n\tGetHandleVerifier [0x00007FF6768B78A2+54818]\n\t(No symbol) [0x00007FF676826AD2]\n\t(No symbol) [0x00007FF6766DDA3B]\n\t(No symbol) [0x00007FF6766E246D]\n\t(No symbol) [0x00007FF6766E3F5F]\n\t(No symbol) [0x00007FF6766E4050]\n\t(No symbol) [0x00007FF67671E184]\n\t(No symbol) [0x00007FF67671E67C]\n\t(No symbol) [0x00007FF676759627]\n\t(No symbol) [0x00007FF67673EAEF]\n\t(No symbol) [0x00007FF6767575A2]\n\t(No symbol) [0x00007FF67673E883]\n\t(No symbol) [0x00007FF676713691]\n\t(No symbol) [0x00007FF6767148D4]\n\tGetHandleVerifier [0x00007FF676C1B9A2+3610402]\n\tGetHandleVerifier [0x00007FF676C71870+3962352]\n\tGetHandleVerifier [0x00007FF676C69D5F+3930847]\n\tGetHandleVerifier [0x00007FF676953656+693206]\n\t(No symbol) [0x00007FF676831638]\n\t(No symbol) [0x00007FF67682D944]\n\t(No symbol) [0x00007FF67682DA72]\n\t(No symbol) [0x00007FF67681E123]\n\tBaseThreadInitThunk [0x00007FFCA2D1257D+29]\n\tRtlUserThreadStart [0x00007FFCA4FCAA68+40]\n",
     "output_type": "error",
     "traceback": [
      "\u001b[1;31m---------------------------------------------------------------------------\u001b[0m",
      "\u001b[1;31mInvalidSelectorException\u001b[0m                  Traceback (most recent call last)",
      "\u001b[1;32mc:\\Documents\\Pinterest Project\\API.ipynb Cell 20\u001b[0m line \u001b[0;36m1\n\u001b[1;32m----> <a href='vscode-notebook-cell:/c%3A/Documents/Pinterest%20Project/API.ipynb#X34sZmlsZQ%3D%3D?line=0'>1</a>\u001b[0m driver\u001b[39m.\u001b[39;49mfind_element(By\u001b[39m.\u001b[39;49mXPATH, \u001b[39m'\u001b[39;49m\u001b[39m//textarea[@placeholder]=\u001b[39;49m\u001b[39m\"\u001b[39;49m\u001b[39mAgrega un título\u001b[39;49m\u001b[39m\"\u001b[39;49m\u001b[39m'\u001b[39;49m)\n",
      "File \u001b[1;32mc:\\Documents\\Pinterest Project\\env\\lib\\site-packages\\selenium\\webdriver\\remote\\webdriver.py:831\u001b[0m, in \u001b[0;36mWebDriver.find_element\u001b[1;34m(self, by, value)\u001b[0m\n\u001b[0;32m    828\u001b[0m     by \u001b[39m=\u001b[39m By\u001b[39m.\u001b[39mCSS_SELECTOR\n\u001b[0;32m    829\u001b[0m     value \u001b[39m=\u001b[39m \u001b[39mf\u001b[39m\u001b[39m'\u001b[39m\u001b[39m[name=\u001b[39m\u001b[39m\"\u001b[39m\u001b[39m{\u001b[39;00mvalue\u001b[39m}\u001b[39;00m\u001b[39m\"\u001b[39m\u001b[39m]\u001b[39m\u001b[39m'\u001b[39m\n\u001b[1;32m--> 831\u001b[0m \u001b[39mreturn\u001b[39;00m \u001b[39mself\u001b[39;49m\u001b[39m.\u001b[39;49mexecute(Command\u001b[39m.\u001b[39;49mFIND_ELEMENT, {\u001b[39m\"\u001b[39;49m\u001b[39musing\u001b[39;49m\u001b[39m\"\u001b[39;49m: by, \u001b[39m\"\u001b[39;49m\u001b[39mvalue\u001b[39;49m\u001b[39m\"\u001b[39;49m: value})[\u001b[39m\"\u001b[39m\u001b[39mvalue\u001b[39m\u001b[39m\"\u001b[39m]\n",
      "File \u001b[1;32mc:\\Documents\\Pinterest Project\\env\\lib\\site-packages\\selenium\\webdriver\\remote\\webdriver.py:440\u001b[0m, in \u001b[0;36mWebDriver.execute\u001b[1;34m(self, driver_command, params)\u001b[0m\n\u001b[0;32m    438\u001b[0m response \u001b[39m=\u001b[39m \u001b[39mself\u001b[39m\u001b[39m.\u001b[39mcommand_executor\u001b[39m.\u001b[39mexecute(driver_command, params)\n\u001b[0;32m    439\u001b[0m \u001b[39mif\u001b[39;00m response:\n\u001b[1;32m--> 440\u001b[0m     \u001b[39mself\u001b[39;49m\u001b[39m.\u001b[39;49merror_handler\u001b[39m.\u001b[39;49mcheck_response(response)\n\u001b[0;32m    441\u001b[0m     response[\u001b[39m\"\u001b[39m\u001b[39mvalue\u001b[39m\u001b[39m\"\u001b[39m] \u001b[39m=\u001b[39m \u001b[39mself\u001b[39m\u001b[39m.\u001b[39m_unwrap_value(response\u001b[39m.\u001b[39mget(\u001b[39m\"\u001b[39m\u001b[39mvalue\u001b[39m\u001b[39m\"\u001b[39m, \u001b[39mNone\u001b[39;00m))\n\u001b[0;32m    442\u001b[0m     \u001b[39mreturn\u001b[39;00m response\n",
      "File \u001b[1;32mc:\\Documents\\Pinterest Project\\env\\lib\\site-packages\\selenium\\webdriver\\remote\\errorhandler.py:245\u001b[0m, in \u001b[0;36mErrorHandler.check_response\u001b[1;34m(self, response)\u001b[0m\n\u001b[0;32m    243\u001b[0m         alert_text \u001b[39m=\u001b[39m value[\u001b[39m\"\u001b[39m\u001b[39malert\u001b[39m\u001b[39m\"\u001b[39m]\u001b[39m.\u001b[39mget(\u001b[39m\"\u001b[39m\u001b[39mtext\u001b[39m\u001b[39m\"\u001b[39m)\n\u001b[0;32m    244\u001b[0m     \u001b[39mraise\u001b[39;00m exception_class(message, screen, stacktrace, alert_text)  \u001b[39m# type: ignore[call-arg]  # mypy is not smart enough here\u001b[39;00m\n\u001b[1;32m--> 245\u001b[0m \u001b[39mraise\u001b[39;00m exception_class(message, screen, stacktrace)\n",
      "\u001b[1;31mInvalidSelectorException\u001b[0m: Message: invalid selector: Unable to locate an element with the xpath expression //textarea[@placeholder]=\"Agrega un título\" because of the following error:\nTypeError: Failed to execute 'evaluate' on 'Document': The result is not a node set, and therefore cannot be converted to the desired type.\n  (Session info: chrome=117.0.5938.89)\nStacktrace:\n\tGetHandleVerifier [0x00007FF6768B78A2+54818]\n\t(No symbol) [0x00007FF676826AD2]\n\t(No symbol) [0x00007FF6766DDA3B]\n\t(No symbol) [0x00007FF6766E246D]\n\t(No symbol) [0x00007FF6766E3F5F]\n\t(No symbol) [0x00007FF6766E4050]\n\t(No symbol) [0x00007FF67671E184]\n\t(No symbol) [0x00007FF67671E67C]\n\t(No symbol) [0x00007FF676759627]\n\t(No symbol) [0x00007FF67673EAEF]\n\t(No symbol) [0x00007FF6767575A2]\n\t(No symbol) [0x00007FF67673E883]\n\t(No symbol) [0x00007FF676713691]\n\t(No symbol) [0x00007FF6767148D4]\n\tGetHandleVerifier [0x00007FF676C1B9A2+3610402]\n\tGetHandleVerifier [0x00007FF676C71870+3962352]\n\tGetHandleVerifier [0x00007FF676C69D5F+3930847]\n\tGetHandleVerifier [0x00007FF676953656+693206]\n\t(No symbol) [0x00007FF676831638]\n\t(No symbol) [0x00007FF67682D944]\n\t(No symbol) [0x00007FF67682DA72]\n\t(No symbol) [0x00007FF67681E123]\n\tBaseThreadInitThunk [0x00007FFCA2D1257D+29]\n\tRtlUserThreadStart [0x00007FFCA4FCAA68+40]\n"
     ]
    }
   ],
   "source": [
    "driver.find_element(By.XPATH, '//textarea[@placeholder]=\"Agrega un título\"')"
   ]
  },
  {
   "cell_type": "markdown",
   "metadata": {},
   "source": [
    "# Iniciar sesion con Google"
   ]
  },
  {
   "cell_type": "code",
   "execution_count": 27,
   "metadata": {},
   "outputs": [
    {
     "ename": "TypeError",
     "evalue": "WebDriver.__init__() got multiple values for argument 'options'",
     "output_type": "error",
     "traceback": [
      "\u001b[1;31m---------------------------------------------------------------------------\u001b[0m",
      "\u001b[1;31mTypeError\u001b[0m                                 Traceback (most recent call last)",
      "\u001b[1;32mc:\\Documents\\Pinterest Project\\API.ipynb Cell 6\u001b[0m line \u001b[0;36m7\n\u001b[0;32m      <a href='vscode-notebook-cell:/c%3A/Documents/Pinterest%20Project/API.ipynb#W5sZmlsZQ%3D%3D?line=4'>5</a>\u001b[0m options\u001b[39m.\u001b[39madd_argument(\u001b[39m'\u001b[39m\u001b[39mstart-maximized\u001b[39m\u001b[39m'\u001b[39m)\n\u001b[0;32m      <a href='vscode-notebook-cell:/c%3A/Documents/Pinterest%20Project/API.ipynb#W5sZmlsZQ%3D%3D?line=5'>6</a>\u001b[0m options\u001b[39m.\u001b[39mbinary_location \u001b[39m=\u001b[39m path_to_brave_executable\n\u001b[1;32m----> <a href='vscode-notebook-cell:/c%3A/Documents/Pinterest%20Project/API.ipynb#W5sZmlsZQ%3D%3D?line=6'>7</a>\u001b[0m driver \u001b[39m=\u001b[39m webdriver\u001b[39m.\u001b[39;49mChrome(path_to_chromedriver, options \u001b[39m=\u001b[39;49m options)\n\u001b[0;32m      <a href='vscode-notebook-cell:/c%3A/Documents/Pinterest%20Project/API.ipynb#W5sZmlsZQ%3D%3D?line=7'>8</a>\u001b[0m driver\u001b[39m.\u001b[39mget(\u001b[39m'\u001b[39m\u001b[39mhttps://ar.pinterest.com/\u001b[39m\u001b[39m'\u001b[39m)\n\u001b[0;32m     <a href='vscode-notebook-cell:/c%3A/Documents/Pinterest%20Project/API.ipynb#W5sZmlsZQ%3D%3D?line=10'>11</a>\u001b[0m \u001b[39m# 1. INICIAR SESION EN PINTEREST\u001b[39;00m\n",
      "\u001b[1;31mTypeError\u001b[0m: WebDriver.__init__() got multiple values for argument 'options'"
     ]
    }
   ],
   "source": [
    "path_to_chromedriver = 'C:/Users/uriel/Downloads/chromedriver-win64/chromedriver-win64/chromedriver.exe'\n",
    "path_to_brave_executable = \"C:/Program Files/Google/Chrome/Application/chrome.exe\"\n",
    "\n",
    "options = webdriver.ChromeOptions()\n",
    "options.add_argument('start-maximized')\n",
    "options.binary_location = path_to_brave_executable\n",
    "driver = webdriver.Chrome(path_to_chromedriver, options = options)\n",
    "driver.get('https://ar.pinterest.com/')\n",
    "\n",
    "\n",
    "# 1. INICIAR SESION EN PINTEREST\n",
    "login_button = WebDriverWait(driver, 10).until(\n",
    "    EC.element_to_be_clickable((By.XPATH, \"//div[contains(text(), 'Iniciar sesión')]\"))\n",
    ")\n",
    "login_button.click()\n",
    "\n",
    "\n",
    "continue_with_google_button = WebDriverWait(driver, 10).until(\n",
    "    EC.visibility_of_element_located((By.XPATH, \"//span[text()='Continuar con Google']\"))\n",
    ")\n",
    "\n",
    "# Haz clic en el botón \"Continuar con Google\"\n",
    "continue_with_google_button.click()\n",
    "\n",
    "iframe = WebDriverWait(driver, 10).until(EC.frame_to_be_available_and_switch_to_it((By.ID, \"gsi_384860_292174\")))\n",
    "\n",
    "# Esperar a que el campo de correo electrónico esté presente y enviar las teclas\n",
    "email_field = WebDriverWait(driver, 10).until(\n",
    "    EC.presence_of_element_located((By.ID, \"identifierId\"))\n",
    ")\n",
    "email_field.send_keys(\"urielmendez24.11@gmail.com\")\n",
    "\n",
    "\n",
    "\n",
    "next_button = driver.find_element(By.XPATH, \"//span[text()='Siguiente']\")\n",
    "next_button.click()\n",
    "\n",
    "# Cambiar de nuevo al contexto principal (fuera del iframe)\n",
    "driver.switch_to.default_content()\n",
    "\n",
    "# 2. PULSAR EL BOTON DE 'CREAR' PARA CREAR UN PIN\n",
    "'''\n",
    "crear_pin_button = WebDriverWait(driver, 10).until(\n",
    "    EC.element_to_be_clickable((By.XPATH, \"//div[contains(text(), 'Crear')]\"))\n",
    ")\n",
    "crear_pin_button.click()\n",
    "'''\n",
    "\n"
   ]
  },
  {
   "cell_type": "code",
   "execution_count": 66,
   "metadata": {},
   "outputs": [
    {
     "ename": "NoSuchWindowException",
     "evalue": "Message: no such window: target window already closed\nfrom unknown error: web view not found\n  (Session info: chrome=117.0.5938.89)\nStacktrace:\n\tGetHandleVerifier [0x00007FF6CFAA78A2+54818]\n\t(No symbol) [0x00007FF6CFA16AD2]\n\t(No symbol) [0x00007FF6CF8CDA3B]\n\t(No symbol) [0x00007FF6CF8ADEE8]\n\t(No symbol) [0x00007FF6CF933237]\n\t(No symbol) [0x00007FF6CF946C6F]\n\t(No symbol) [0x00007FF6CF92E883]\n\t(No symbol) [0x00007FF6CF903691]\n\t(No symbol) [0x00007FF6CF9048D4]\n\tGetHandleVerifier [0x00007FF6CFE0B9A2+3610402]\n\tGetHandleVerifier [0x00007FF6CFE61870+3962352]\n\tGetHandleVerifier [0x00007FF6CFE59D5F+3930847]\n\tGetHandleVerifier [0x00007FF6CFB43656+693206]\n\t(No symbol) [0x00007FF6CFA21638]\n\t(No symbol) [0x00007FF6CFA1D944]\n\t(No symbol) [0x00007FF6CFA1DA72]\n\t(No symbol) [0x00007FF6CFA0E123]\n\tBaseThreadInitThunk [0x00007FF8B43C257D+29]\n\tRtlUserThreadStart [0x00007FF8B58AAA68+40]\n",
     "output_type": "error",
     "traceback": [
      "\u001b[1;31m---------------------------------------------------------------------------\u001b[0m",
      "\u001b[1;31mNoSuchWindowException\u001b[0m                     Traceback (most recent call last)",
      "\u001b[1;32mc:\\Documents\\Proyectos\\AEO-Automatizacion\\notebooks\\API.ipynb Cell 7\u001b[0m line \u001b[0;36m1\n\u001b[1;32m----> <a href='vscode-notebook-cell:/c%3A/Documents/Proyectos/AEO-Automatizacion/notebooks/API.ipynb#X12sZmlsZQ%3D%3D?line=0'>1</a>\u001b[0m driver\u001b[39m.\u001b[39;49mfind_element(By\u001b[39m.\u001b[39;49mID, \u001b[39m'\u001b[39;49m\u001b[39mmedia-upload-input-26369f54-eccc-46cf-88a9-6689552c80f4\u001b[39;49m\u001b[39m'\u001b[39;49m)\n",
      "File \u001b[1;32mc:\\Documents\\Proyectos\\AEO-Automatizacion\\myenv\\lib\\site-packages\\selenium\\webdriver\\remote\\webdriver.py:831\u001b[0m, in \u001b[0;36mWebDriver.find_element\u001b[1;34m(self, by, value)\u001b[0m\n\u001b[0;32m    828\u001b[0m     by \u001b[39m=\u001b[39m By\u001b[39m.\u001b[39mCSS_SELECTOR\n\u001b[0;32m    829\u001b[0m     value \u001b[39m=\u001b[39m \u001b[39mf\u001b[39m\u001b[39m'\u001b[39m\u001b[39m[name=\u001b[39m\u001b[39m\"\u001b[39m\u001b[39m{\u001b[39;00mvalue\u001b[39m}\u001b[39;00m\u001b[39m\"\u001b[39m\u001b[39m]\u001b[39m\u001b[39m'\u001b[39m\n\u001b[1;32m--> 831\u001b[0m \u001b[39mreturn\u001b[39;00m \u001b[39mself\u001b[39;49m\u001b[39m.\u001b[39;49mexecute(Command\u001b[39m.\u001b[39;49mFIND_ELEMENT, {\u001b[39m\"\u001b[39;49m\u001b[39musing\u001b[39;49m\u001b[39m\"\u001b[39;49m: by, \u001b[39m\"\u001b[39;49m\u001b[39mvalue\u001b[39;49m\u001b[39m\"\u001b[39;49m: value})[\u001b[39m\"\u001b[39m\u001b[39mvalue\u001b[39m\u001b[39m\"\u001b[39m]\n",
      "File \u001b[1;32mc:\\Documents\\Proyectos\\AEO-Automatizacion\\myenv\\lib\\site-packages\\selenium\\webdriver\\remote\\webdriver.py:440\u001b[0m, in \u001b[0;36mWebDriver.execute\u001b[1;34m(self, driver_command, params)\u001b[0m\n\u001b[0;32m    438\u001b[0m response \u001b[39m=\u001b[39m \u001b[39mself\u001b[39m\u001b[39m.\u001b[39mcommand_executor\u001b[39m.\u001b[39mexecute(driver_command, params)\n\u001b[0;32m    439\u001b[0m \u001b[39mif\u001b[39;00m response:\n\u001b[1;32m--> 440\u001b[0m     \u001b[39mself\u001b[39;49m\u001b[39m.\u001b[39;49merror_handler\u001b[39m.\u001b[39;49mcheck_response(response)\n\u001b[0;32m    441\u001b[0m     response[\u001b[39m\"\u001b[39m\u001b[39mvalue\u001b[39m\u001b[39m\"\u001b[39m] \u001b[39m=\u001b[39m \u001b[39mself\u001b[39m\u001b[39m.\u001b[39m_unwrap_value(response\u001b[39m.\u001b[39mget(\u001b[39m\"\u001b[39m\u001b[39mvalue\u001b[39m\u001b[39m\"\u001b[39m, \u001b[39mNone\u001b[39;00m))\n\u001b[0;32m    442\u001b[0m     \u001b[39mreturn\u001b[39;00m response\n",
      "File \u001b[1;32mc:\\Documents\\Proyectos\\AEO-Automatizacion\\myenv\\lib\\site-packages\\selenium\\webdriver\\remote\\errorhandler.py:245\u001b[0m, in \u001b[0;36mErrorHandler.check_response\u001b[1;34m(self, response)\u001b[0m\n\u001b[0;32m    243\u001b[0m         alert_text \u001b[39m=\u001b[39m value[\u001b[39m\"\u001b[39m\u001b[39malert\u001b[39m\u001b[39m\"\u001b[39m]\u001b[39m.\u001b[39mget(\u001b[39m\"\u001b[39m\u001b[39mtext\u001b[39m\u001b[39m\"\u001b[39m)\n\u001b[0;32m    244\u001b[0m     \u001b[39mraise\u001b[39;00m exception_class(message, screen, stacktrace, alert_text)  \u001b[39m# type: ignore[call-arg]  # mypy is not smart enough here\u001b[39;00m\n\u001b[1;32m--> 245\u001b[0m \u001b[39mraise\u001b[39;00m exception_class(message, screen, stacktrace)\n",
      "\u001b[1;31mNoSuchWindowException\u001b[0m: Message: no such window: target window already closed\nfrom unknown error: web view not found\n  (Session info: chrome=117.0.5938.89)\nStacktrace:\n\tGetHandleVerifier [0x00007FF6CFAA78A2+54818]\n\t(No symbol) [0x00007FF6CFA16AD2]\n\t(No symbol) [0x00007FF6CF8CDA3B]\n\t(No symbol) [0x00007FF6CF8ADEE8]\n\t(No symbol) [0x00007FF6CF933237]\n\t(No symbol) [0x00007FF6CF946C6F]\n\t(No symbol) [0x00007FF6CF92E883]\n\t(No symbol) [0x00007FF6CF903691]\n\t(No symbol) [0x00007FF6CF9048D4]\n\tGetHandleVerifier [0x00007FF6CFE0B9A2+3610402]\n\tGetHandleVerifier [0x00007FF6CFE61870+3962352]\n\tGetHandleVerifier [0x00007FF6CFE59D5F+3930847]\n\tGetHandleVerifier [0x00007FF6CFB43656+693206]\n\t(No symbol) [0x00007FF6CFA21638]\n\t(No symbol) [0x00007FF6CFA1D944]\n\t(No symbol) [0x00007FF6CFA1DA72]\n\t(No symbol) [0x00007FF6CFA0E123]\n\tBaseThreadInitThunk [0x00007FF8B43C257D+29]\n\tRtlUserThreadStart [0x00007FF8B58AAA68+40]\n"
     ]
    }
   ],
   "source": [
    "driver.find_element(By.ID, 'media-upload-input-26369f54-eccc-46cf-88a9-6689552c80f4')"
   ]
  },
  {
   "cell_type": "markdown",
   "metadata": {},
   "source": [
    "---"
   ]
  }
 ],
 "metadata": {
  "kernelspec": {
   "display_name": "myenv",
   "language": "python",
   "name": "python3"
  },
  "language_info": {
   "codemirror_mode": {
    "name": "ipython",
    "version": 3
   },
   "file_extension": ".py",
   "mimetype": "text/x-python",
   "name": "python",
   "nbconvert_exporter": "python",
   "pygments_lexer": "ipython3",
   "version": "3.10.11"
  },
  "orig_nbformat": 4
 },
 "nbformat": 4,
 "nbformat_minor": 2
}
