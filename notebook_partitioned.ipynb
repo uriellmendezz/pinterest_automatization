{
 "cells": [
  {
   "cell_type": "code",
   "execution_count": 83,
   "metadata": {},
   "outputs": [],
   "source": [
    "# Librerias necesarias\n",
    "import pandas as pd\n",
    "import time\n",
    "from time import sleep\n",
    "import os\n",
    "import random\n",
    "import smtplib\n",
    "import ssl\n",
    "from email.message import EmailMessage\n",
    "from PIL import Image\n",
    "\n",
    "from selenium import webdriver\n",
    "from selenium.webdriver.common.by import By\n",
    "from selenium.webdriver.support.ui import WebDriverWait\n",
    "from selenium.webdriver.support import expected_conditions as EC\n",
    "from selenium.webdriver.common.keys import Keys\n",
    "from selenium.common.exceptions import NoSuchElementException\n",
    "from selenium.common.exceptions import TimeoutException"
   ]
  },
  {
   "cell_type": "code",
   "execution_count": 2,
   "metadata": {},
   "outputs": [],
   "source": [
    "path_driver = 'C:/Users/uriel/Downloads/chromedriver-win64/chromedriver-win64/chromedriver.exe'\n",
    "path_chrome = 'C:/Program Files/Google/Chrome/Application/chrome.exe'"
   ]
  },
  {
   "cell_type": "code",
   "execution_count": 4,
   "metadata": {},
   "outputs": [],
   "source": [
    "df_accounts = pd.read_excel('accounts_excel.xlsx')\n",
    "df_accounts['PATH TO IMAGES'] = df_accounts['PATH TO IMAGES'].str.strip('\"').replace(\"\\\\\",'/')"
   ]
  },
  {
   "cell_type": "code",
   "execution_count": 95,
   "metadata": {},
   "outputs": [
    {
     "name": "stderr",
     "output_type": "stream",
     "text": [
      "C:\\Users\\uriel\\AppData\\Local\\Temp\\ipykernel_20036\\3578807916.py:5: DeprecationWarning: executable_path has been deprecated, please pass in a Service object\n",
      "  driver = webdriver.Chrome(path_driver, options = options)\n"
     ]
    }
   ],
   "source": [
    "# INICIARLIZAR EL WEB DRIVER (NAVEGADOR)\n",
    "options = webdriver.ChromeOptions()\n",
    "options.add_argument('start-maximized')\n",
    "options.binary_location = path_chrome\n",
    "driver = webdriver.Chrome(path_driver, options = options)"
   ]
  },
  {
   "cell_type": "code",
   "execution_count": 72,
   "metadata": {},
   "outputs": [],
   "source": [
    "def Send_Email(receiver_email, subject, body):\n",
    "    sender_email = 'mybestfriendbot@gmail.com'  # Reemplaza con tu dirección de correo electrónico\n",
    "    with open('../password.txt', 'r') as f:\n",
    "        password = f.read().strip()\n",
    "\n",
    "    em = EmailMessage()\n",
    "    em['From'] = sender_email\n",
    "    em['To'] = receiver_email\n",
    "    em['Subject'] = subject\n",
    "    em.set_content(body)\n",
    "\n",
    "    context = ssl.create_default_context()\n",
    "\n",
    "    with smtplib.SMTP_SSL('smtp.gmail.com', 465, context= context) as smtp:\n",
    "        smtp.login(sender_email, password)\n",
    "        smtp.sendmail(sender_email, receiver_email, em.as_string())\n",
    "\n",
    "def Random_Duration_Action(start, end):\n",
    "    # Crear la lista de números\n",
    "    lista_numeros = []\n",
    "    current_num = start\n",
    "\n",
    "    while current_num <= end:\n",
    "        lista_numeros.append(round(current_num, 2))\n",
    "        current_num += 0.01\n",
    "\n",
    "    random_number = random.choice(lista_numeros)\n",
    "    print(random_number)\n",
    "    return sleep(random_number)"
   ]
  },
  {
   "cell_type": "code",
   "execution_count": 85,
   "metadata": {},
   "outputs": [],
   "source": [
    "def is_small_image(image_path):\n",
    "    with Image.open(image_path) as img:\n",
    "        width, height = img.size\n",
    "        if width < 100 or height < 100:\n",
    "            return True\n",
    "        else:\n",
    "            return False"
   ]
  },
  {
   "cell_type": "code",
   "execution_count": 73,
   "metadata": {},
   "outputs": [],
   "source": [
    "def duration(start, end):\n",
    "    general_time_total = end - start\n",
    "    h, rem = divmod(general_time_total, 3600)\n",
    "    m, s = divmod(rem, 60)\n",
    "    general_formatted_time = '{:0>2}:{:0>2}:{:0>2}'.format(int(h), int(m), int(s))\n",
    "    return general_formatted_time"
   ]
  },
  {
   "cell_type": "markdown",
   "metadata": {},
   "source": [
    "### Main functions:"
   ]
  },
  {
   "cell_type": "code",
   "execution_count": 96,
   "metadata": {},
   "outputs": [
    {
     "name": "stdout",
     "output_type": "stream",
     "text": [
      "3.58\n"
     ]
    }
   ],
   "source": [
    "def Open_Pinterest():\n",
    "    driver.get('https://ar.pinterest.com/')\n",
    "    Random_Duration_Action(3,4)\n",
    "\n",
    "Open_Pinterest()"
   ]
  },
  {
   "cell_type": "code",
   "execution_count": 97,
   "metadata": {},
   "outputs": [
    {
     "name": "stdout",
     "output_type": "stream",
     "text": [
      "2.6\n",
      "0.73\n",
      "1.17\n",
      "6.02\n"
     ]
    }
   ],
   "source": [
    "def Log_In(email, password):\n",
    "    # 1. INICIAR SESION EN PINTEREST\n",
    "    try:\n",
    "        login_button = WebDriverWait(driver, 10).until(\n",
    "            EC.element_to_be_clickable((By.XPATH, \"//div[contains(text(), 'Log in')]\"))\n",
    "        )\n",
    "        login_button.click()\n",
    "    except TimeoutException:\n",
    "        login_button = WebDriverWait(driver, 10).until(\n",
    "            EC.element_to_be_clickable((By.XPATH, \"//div[contains(text(), 'Iniciar sesión')]\"))\n",
    "        )\n",
    "        login_button.click()\n",
    "\n",
    "    # Encuentra los campos de usuario y contraseña\n",
    "    username_field = driver.find_element(By.NAME, 'id')\n",
    "    password_field = driver.find_element(By.NAME, 'password')\n",
    "\n",
    "    Random_Duration_Action(1,3)\n",
    "\n",
    "    # Envia los valores al campo\n",
    "    username_field.send_keys(email)\n",
    "\n",
    "    Random_Duration_Action(0.5,2)\n",
    "\n",
    "    password_field.send_keys(password)\n",
    "\n",
    "    Random_Duration_Action(1,2.3)\n",
    "\n",
    "    password_field.send_keys(Keys.ENTER)\n",
    "\n",
    "    Random_Duration_Action(5,7)\n",
    "\n",
    "Log_In(email='email@hotmail.com', password='password1234')"
   ]
  },
  {
   "cell_type": "code",
   "execution_count": 102,
   "metadata": {},
   "outputs": [
    {
     "name": "stdout",
     "output_type": "stream",
     "text": [
      "2.09\n",
      "2.88\n"
     ]
    }
   ],
   "source": [
    "def Create_Pin():\n",
    "    crear_button = WebDriverWait(driver, 10).until(\n",
    "        EC.element_to_be_clickable((By.XPATH, \"//span[contains(text(), 'Create')]\"))\n",
    "    )\n",
    "    crear_button.click()\n",
    "\n",
    "    Random_Duration_Action(1.4,2.13)\n",
    "\n",
    "    crear_pin_button = WebDriverWait(driver, 10).until(\n",
    "        EC.element_to_be_clickable((By.XPATH, \"//span[contains(text(), 'Create Pin')]\"))\n",
    "    )\n",
    "    crear_pin_button.click()\n",
    "\n",
    "    Random_Duration_Action(2,5)\n",
    "\n",
    "Create_Pin()"
   ]
  },
  {
   "cell_type": "code",
   "execution_count": 103,
   "metadata": {},
   "outputs": [
    {
     "name": "stdout",
     "output_type": "stream",
     "text": [
      "0.72\n",
      "1.78\n",
      "0.75\n",
      "3.65\n",
      "2.17\n",
      "1.56\n",
      "0.99\n",
      "4.07\n",
      "2.57\n"
     ]
    }
   ],
   "source": [
    "def Load_Images(path_to_imgs):\n",
    "    fotos = os.listdir(path_to_imgs)[:5]\n",
    "    last_one = fotos[-1]\n",
    "    for i in range(len(fotos) - 1):\n",
    "        try:\n",
    "            file_input = driver.find_element(By.XPATH, \"//input[@aria-label='File upload']\")\n",
    "            file_input.send_keys(path_to_imgs  + '/' + fotos[i])\n",
    "            #os.remove(path_to_imgs  + '/' + fotos[i])\n",
    "            Random_Duration_Action(0.5,2.5)\n",
    "            boton = driver.find_element(By.XPATH, '//button[@style=\"background-color: rgb(255, 255, 255); border: 0px; border-radius: 8px; box-sizing: border-box; cursor: pointer; height: 60px; outline: none; padding: 0px; width: 40px;\"]')\n",
    "            boton.click()\n",
    "            Random_Duration_Action(1.33,4.2)\n",
    "        except Exception:\n",
    "            pass\n",
    "\n",
    "    file_input = driver.find_element(By.XPATH, \"//input[@aria-label='File upload']\")\n",
    "    file_input.send_keys(path_to_imgs + '/' + last_one)\n",
    "    #os.remove(path_to_imgs  + '/' + last_one)\n",
    "\n",
    "    Random_Duration_Action(2,4)\n",
    "\n",
    "Load_Images('C:/Documents/Proyectos/AEO-Automatizacion/fotos_complementarias')"
   ]
  },
  {
   "cell_type": "code",
   "execution_count": 92,
   "metadata": {},
   "outputs": [
    {
     "name": "stdout",
     "output_type": "stream",
     "text": [
      "2.38\n",
      "2.88\n",
      "2.09\n",
      "3.95\n",
      "1.7\n",
      "2.12\n",
      "1.9\n",
      "3.67\n",
      "3.2\n"
     ]
    }
   ],
   "source": [
    "upload_images = []\n",
    "def Load_Images(path_to_imgs):\n",
    "    fotos = os.listdir(path_to_imgs)[:5]\n",
    "    last_one = fotos[-1]\n",
    "    \n",
    "    # Carpeta para imágenes pequeñas\n",
    "    small_images_folder = os.path.join(path_to_imgs + '/' + 'small_images')\n",
    "    os.makedirs(small_images_folder, exist_ok=True)\n",
    "\n",
    "    for i in range(len(fotos) - 1):\n",
    "        try:\n",
    "            image_path = path_to_imgs  + '/' + fotos[i]\n",
    "            if is_small_image(image_path) == True:\n",
    "                # Mover a la carpeta de imágenes pequeñas\n",
    "                os.rename(image_path, small_images_folder + '/' + fotos[i])\n",
    "            else:\n",
    "                # Subir la imagen\n",
    "                file_input = driver.find_element(By.XPATH, \"//input[@aria-label='File upload']\")\n",
    "                file_input.send_keys(image_path)\n",
    "                upload_images.append(image_path)\n",
    "                Random_Duration_Action(0.5, 2.5)\n",
    "                boton = driver.find_element(By.XPATH, '//button[@style=\"background-color: rgb(255, 255, 255); border: 0px; border-radius: 8px; box-sizing: border-box; cursor: pointer; height: 60px; outline: none; padding: 0px; width: 40px;\"]')\n",
    "                boton.click()\n",
    "                Random_Duration_Action(1.33, 4.2)\n",
    "        except Exception:\n",
    "            pass\n",
    "\n",
    "    # Subir la última imagen\n",
    "    last_image_path = path_to_imgs  + '/' + last_one\n",
    "    if is_small_image(last_image_path) == True:\n",
    "        # Mover a la carpeta de imágenes pequeñas\n",
    "        os.rename(last_image_path, small_images_folder + '/' + last_one)\n",
    "    else:\n",
    "        # Subir la imagen\n",
    "        file_input = driver.find_element(By.XPATH, \"//input[@aria-label='File upload']\")\n",
    "        file_input.send_keys(last_image_path)\n",
    "        upload_images.append(last_image_path)\n",
    "        Random_Duration_Action(2, 4)\n",
    "\n",
    "# Llama a la función Load_Images\n",
    "Load_Images('C:/Documents/Proyectos/AEO-Automatizacion/fotos_complementarias')\n"
   ]
  },
  {
   "cell_type": "code",
   "execution_count": 104,
   "metadata": {},
   "outputs": [
    {
     "name": "stdout",
     "output_type": "stream",
     "text": [
      "2.49\n",
      "2.1\n",
      "1.89\n",
      "2.27\n",
      "4.63\n",
      "2.2\n",
      "2.0\n"
     ]
    }
   ],
   "source": [
    "def Edit_Pins(title_, description_, link_):\n",
    "\n",
    "    tick_button = driver.find_element(By.XPATH, '//button[@aria-label=\"Select Pin\"]')\n",
    "    tick_button.click()\n",
    "\n",
    "    Random_Duration_Action(2,3)\n",
    "\n",
    "    select_all = driver.find_element(By.XPATH, '//div[contains(text(), \"Select all\")]')\n",
    "    select_all.click()\n",
    "\n",
    "    Random_Duration_Action(1.5,2.8)\n",
    "\n",
    "    select_all = driver.find_element(By.XPATH, '//button[@aria-label=\"Edit\"]')\n",
    "    select_all.click()\n",
    "\n",
    "    Random_Duration_Action(1.2,2.1)\n",
    "\n",
    "    title = driver.find_element(By.XPATH, '//input[@id=\"pin-builder-edit-modal-title\"]')\n",
    "    title.send_keys(title_)\n",
    "\n",
    "    Random_Duration_Action(1.5,2.3)\n",
    "\n",
    "    desc = driver.find_element(By.XPATH, '//textarea[@id=\"pin-builder-edit-modal-description\"]')\n",
    "    desc.send_keys(description_)\n",
    "\n",
    "    Random_Duration_Action(2.2,4.9)\n",
    "\n",
    "    link = driver.find_element(By.XPATH, '//input[@id=\"pin-builder-edit-modal-link\"]')\n",
    "    link.send_keys(link_)\n",
    "\n",
    "    Random_Duration_Action(2,2.3)\n",
    "\n",
    "    update_info_button = driver.find_element(By.XPATH, '//div[contains(text(), \"Update info\")]')\n",
    "    update_info_button.click()\n",
    "\n",
    "    Random_Duration_Action(1.5,2.6)\n",
    "\n",
    "Edit_Pins('titulo', 'descripcion', 'https://amazon.com/')"
   ]
  },
  {
   "cell_type": "code",
   "execution_count": 105,
   "metadata": {},
   "outputs": [
    {
     "data": {
      "text/plain": [
       "5"
      ]
     },
     "execution_count": 105,
     "metadata": {},
     "output_type": "execute_result"
    }
   ],
   "source": [
    "def Count_Pins():\n",
    "    number_of_pins = driver.find_element(By.XPATH, '//div[@class=\"tBJ dyH iFc sAJ O2T zDA IZT swG\"]')\n",
    "    total = number_of_pins.text\n",
    "    number = int(total.split()[0])\n",
    "    return number\n",
    "\n",
    "Count_Pins()"
   ]
  },
  {
   "cell_type": "code",
   "execution_count": 106,
   "metadata": {},
   "outputs": [],
   "source": [
    "def Publish_Pins():\n",
    "    publish_button = driver.find_element(By.XPATH, '//div[contains(text(), \"Publish\")]')\n",
    "    publish_button.click()\n",
    "\n",
    "Publish_Pins()"
   ]
  },
  {
   "cell_type": "code",
   "execution_count": 108,
   "metadata": {},
   "outputs": [
    {
     "name": "stdout",
     "output_type": "stream",
     "text": [
      "1.49\n",
      "1.44\n"
     ]
    }
   ],
   "source": [
    "def Log_Out():\n",
    "    driver.get('https://ar.pinterest.com/')\n",
    "\n",
    "    Random_Duration_Action(1.4,2.7)\n",
    "\n",
    "    options_button = driver.find_element(By.XPATH, '//button[@aria-label=\"Accounts and more options\"]')\n",
    "    options_button.click()\n",
    "\n",
    "    Random_Duration_Action(1,1.7)\n",
    "\n",
    "    log_out = driver.find_element(By.XPATH, '//span[contains(text(), \"Log out\")]')\n",
    "    log_out.click()\n",
    "\n",
    "Log_Out()"
   ]
  },
  {
   "cell_type": "code",
   "execution_count": 69,
   "metadata": {},
   "outputs": [],
   "source": [
    "def Turn_Off_WebDriver():\n",
    "    driver.quit()"
   ]
  }
 ],
 "metadata": {
  "kernelspec": {
   "display_name": "env",
   "language": "python",
   "name": "python3"
  },
  "language_info": {
   "codemirror_mode": {
    "name": "ipython",
    "version": 3
   },
   "file_extension": ".py",
   "mimetype": "text/x-python",
   "name": "python",
   "nbconvert_exporter": "python",
   "pygments_lexer": "ipython3",
   "version": "3.10.11"
  },
  "orig_nbformat": 4
 },
 "nbformat": 4,
 "nbformat_minor": 2
}
