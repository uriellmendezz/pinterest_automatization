{
 "cells": [
  {
   "cell_type": "code",
   "execution_count": 71,
   "metadata": {},
   "outputs": [],
   "source": [
    "# Librerias necesarias\n",
    "import pandas as pd\n",
    "import requests\n",
    "import time\n",
    "from time import sleep\n",
    "import os\n",
    "import json\n",
    "\n",
    "from selenium import webdriver\n",
    "from selenium.webdriver.common.by import By\n",
    "from selenium.webdriver.support.ui import WebDriverWait\n",
    "from selenium.webdriver.support import expected_conditions as EC\n",
    "from selenium.webdriver.common.keys import Keys\n",
    "from selenium.webdriver.chrome.options import Options\n",
    "from selenium.webdriver.common.action_chains import ActionChains"
   ]
  },
  {
   "cell_type": "code",
   "execution_count": 2,
   "metadata": {},
   "outputs": [],
   "source": [
    "def clean_screen(): \n",
    "    os.system('cls')\n",
    "\n",
    "clean_screen()\n",
    "# INSERTAR EL PATH DEL CROMEDRIVER Y EL EJECUTABLE DE GOOGLE CHROME\n",
    "# Ejemplo:\n",
    "path_to_chromedriver = 'C:/Users/uriel/Downloads/chromedriver-win64/chromedriver-win64/chromedriver.exe'\n",
    "path_to_chrome_executable = 'C:/Program Files/Google/Chrome/Application/chrome.exe'\n",
    "\n",
    "#path_to_chromedriver = ''\n",
    "#path_to_chrome_executable = ''\n",
    "\n",
    "with open('profile_data.json', 'r') as f:\n",
    "    data = json.load(f)\n",
    "\n",
    "pinterest_username = data['email']\n",
    "pinterest_password = data['password']\n",
    "\n",
    "clean_screen()"
   ]
  },
  {
   "cell_type": "code",
   "execution_count": 11,
   "metadata": {},
   "outputs": [
    {
     "name": "stderr",
     "output_type": "stream",
     "text": [
      "C:\\Users\\uriel\\AppData\\Local\\Temp\\ipykernel_4012\\946135484.py:5: DeprecationWarning: executable_path has been deprecated, please pass in a Service object\n",
      "  driver = webdriver.Chrome(path_to_chromedriver, options = options)\n"
     ]
    }
   ],
   "source": [
    "# INICIARLIZAR EL WEB DRIVER (NAVEGADOR)\n",
    "options = webdriver.ChromeOptions()\n",
    "options.add_argument('start-maximized')\n",
    "options.binary_location = path_to_chrome_executable\n",
    "driver = webdriver.Chrome(path_to_chromedriver, options = options)\n",
    "driver.get('https://ar.pinterest.com/')"
   ]
  },
  {
   "cell_type": "code",
   "execution_count": 13,
   "metadata": {},
   "outputs": [
    {
     "ename": "KeyboardInterrupt",
     "evalue": "",
     "output_type": "error",
     "traceback": [
      "\u001b[1;31m---------------------------------------------------------------------------\u001b[0m",
      "\u001b[1;31mKeyboardInterrupt\u001b[0m                         Traceback (most recent call last)",
      "\u001b[1;32mc:\\Documents\\pinterest_automatization\\version2.ipynb Cell 4\u001b[0m line \u001b[0;36m2\n\u001b[0;32m      <a href='vscode-notebook-cell:/c%3A/Documents/pinterest_automatization/version2.ipynb#W3sZmlsZQ%3D%3D?line=0'>1</a>\u001b[0m \u001b[39m# 1. INICIAR SESION EN PINTEREST\u001b[39;00m\n\u001b[1;32m----> <a href='vscode-notebook-cell:/c%3A/Documents/pinterest_automatization/version2.ipynb#W3sZmlsZQ%3D%3D?line=1'>2</a>\u001b[0m login_button \u001b[39m=\u001b[39m WebDriverWait(driver, \u001b[39m10\u001b[39;49m)\u001b[39m.\u001b[39;49muntil(\n\u001b[0;32m      <a href='vscode-notebook-cell:/c%3A/Documents/pinterest_automatization/version2.ipynb#W3sZmlsZQ%3D%3D?line=2'>3</a>\u001b[0m     EC\u001b[39m.\u001b[39;49melement_to_be_clickable((By\u001b[39m.\u001b[39;49mXPATH, \u001b[39m\"\u001b[39;49m\u001b[39m//div[contains(text(), \u001b[39;49m\u001b[39m'\u001b[39;49m\u001b[39mIniciar sesión\u001b[39;49m\u001b[39m'\u001b[39;49m\u001b[39m)]\u001b[39;49m\u001b[39m\"\u001b[39;49m))\n\u001b[0;32m      <a href='vscode-notebook-cell:/c%3A/Documents/pinterest_automatization/version2.ipynb#W3sZmlsZQ%3D%3D?line=3'>4</a>\u001b[0m )\n\u001b[0;32m      <a href='vscode-notebook-cell:/c%3A/Documents/pinterest_automatization/version2.ipynb#W3sZmlsZQ%3D%3D?line=4'>5</a>\u001b[0m login_button\u001b[39m.\u001b[39mclick()\n\u001b[0;32m      <a href='vscode-notebook-cell:/c%3A/Documents/pinterest_automatization/version2.ipynb#W3sZmlsZQ%3D%3D?line=6'>7</a>\u001b[0m \u001b[39m# Encuentra los campos de usuario y contraseña\u001b[39;00m\n",
      "File \u001b[1;32mc:\\Documents\\pinterest_automatization\\env\\lib\\site-packages\\selenium\\webdriver\\support\\wait.py:92\u001b[0m, in \u001b[0;36mWebDriverWait.until\u001b[1;34m(self, method, message)\u001b[0m\n\u001b[0;32m     90\u001b[0m     screen \u001b[39m=\u001b[39m \u001b[39mgetattr\u001b[39m(exc, \u001b[39m\"\u001b[39m\u001b[39mscreen\u001b[39m\u001b[39m\"\u001b[39m, \u001b[39mNone\u001b[39;00m)\n\u001b[0;32m     91\u001b[0m     stacktrace \u001b[39m=\u001b[39m \u001b[39mgetattr\u001b[39m(exc, \u001b[39m\"\u001b[39m\u001b[39mstacktrace\u001b[39m\u001b[39m\"\u001b[39m, \u001b[39mNone\u001b[39;00m)\n\u001b[1;32m---> 92\u001b[0m time\u001b[39m.\u001b[39;49msleep(\u001b[39mself\u001b[39;49m\u001b[39m.\u001b[39;49m_poll)\n\u001b[0;32m     93\u001b[0m \u001b[39mif\u001b[39;00m time\u001b[39m.\u001b[39mmonotonic() \u001b[39m>\u001b[39m end_time:\n\u001b[0;32m     94\u001b[0m     \u001b[39mbreak\u001b[39;00m\n",
      "\u001b[1;31mKeyboardInterrupt\u001b[0m: "
     ]
    }
   ],
   "source": [
    "# 1. INICIAR SESION EN PINTEREST\n",
    "login_button = WebDriverWait(driver, 10).until(\n",
    "    EC.element_to_be_clickable((By.XPATH, \"//div[contains(text(), 'Iniciar sesión')]\"))\n",
    ")\n",
    "login_button.click()\n",
    "\n",
    "# Encuentra los campos de usuario y contraseña\n",
    "username_field = driver.find_element(By.NAME, 'id')\n",
    "password_field = driver.find_element(By.NAME, 'password')\n",
    "\n",
    "# Envia los valores al campo\n",
    "username_field.send_keys(pinterest_username)\n",
    "password_field.send_keys(pinterest_password)\n",
    "\n",
    "sleep(3)\n",
    "\n",
    "password_field.send_keys(Keys.ENTER)"
   ]
  },
  {
   "cell_type": "code",
   "execution_count": 49,
   "metadata": {},
   "outputs": [],
   "source": [
    "crear_button = WebDriverWait(driver, 10).until(\n",
    "    EC.element_to_be_clickable((By.XPATH, \"//span[contains(text(), 'Crear')]\"))\n",
    ")\n",
    "crear_button.click()\n",
    "\n",
    "crear_pin_button = WebDriverWait(driver, 10).until(\n",
    "    EC.element_to_be_clickable((By.XPATH, \"//span[contains(text(), 'Crear Pin')]\"))\n",
    ")\n",
    "crear_pin_button.click()\n",
    "\n",
    "sleep(3)"
   ]
  },
  {
   "cell_type": "code",
   "execution_count": 75,
   "metadata": {},
   "outputs": [],
   "source": [
    "fotos = os.listdir('C:/Documents/Pinterest Project/fotos')[:10]\n",
    "last_one = fotos[-1]\n",
    "for i in range(len(fotos) - 1):\n",
    "    file_input = driver.find_element(By.XPATH, \"//input[@aria-label='Carga de archivo']\")\n",
    "    file_input.send_keys('C:/Documents/Pinterest Project/fotos/' + fotos[i])\n",
    "    #sleep(2)\n",
    "    boton = driver.find_element(By.XPATH, '//button[@style=\"background-color: rgb(255, 255, 255); border: 0px; border-radius: 8px; box-sizing: border-box; cursor: pointer; height: 60px; outline: none; padding: 0px; width: 40px;\"]')\n",
    "    # Haz clic en el botón\n",
    "    boton.click()\n",
    "    sleep(0.5)\n",
    "\n",
    "file_input = driver.find_element(By.XPATH, \"//input[@aria-label='Carga de archivo']\")\n",
    "file_input.send_keys('C:/Documents/Pinterest Project/fotos/' + last_one)"
   ]
  },
  {
   "cell_type": "code",
   "execution_count": 76,
   "metadata": {},
   "outputs": [],
   "source": [
    "tick_button = driver.find_element(By.XPATH, '//button[@aria-label=\"Seleccionar Pin\"]')\n",
    "tick_button.click()\n",
    "\n",
    "sleep(1)\n",
    "\n",
    "select_all = driver.find_element(By.XPATH, '//div[contains(text(), \"Seleccionar todo\")]')\n",
    "select_all.click()\n",
    "\n",
    "sleep(1)\n",
    "\n",
    "select_all = driver.find_element(By.XPATH, '//button[@aria-label=\"Editar\"]')\n",
    "select_all.click()\n",
    "\n",
    "sleep(1)\n"
   ]
  },
  {
   "cell_type": "code",
   "execution_count": 77,
   "metadata": {},
   "outputs": [],
   "source": [
    "title = driver.find_element(By.XPATH, '//input[@id=\"pin-builder-edit-modal-title\"]')\n",
    "title.send_keys('Este es el titulo')\n",
    "\n",
    "sleep(0.4)\n",
    "\n",
    "desc = driver.find_element(By.XPATH, '//textarea[@id=\"pin-builder-edit-modal-description\"]')\n",
    "desc.send_keys('Esta es la descripción')\n",
    "\n",
    "sleep(0.4)\n",
    "\n",
    "link = driver.find_element(By.XPATH, '//input[@id=\"pin-builder-edit-modal-link\"]')\n",
    "link.send_keys('https://www.amazon.com/')\n",
    "\n",
    "sleep(0.4)\n",
    "\n",
    "update_info_button = driver.find_element(By.XPATH, '//div[contains(text(), \"Actualizar información\")]')\n",
    "update_info_button.click()\n",
    "\n",
    "sleep(1)\n",
    "\n",
    "publish_button = driver.find_element(By.XPATH, '//div[contains(text(), \"Publicar\")]')\n",
    "publish_button.click()"
   ]
  },
  {
   "cell_type": "markdown",
   "metadata": {},
   "source": [
    "---\n",
    "\n",
    "# TODO JUNTO"
   ]
  },
  {
   "cell_type": "code",
   "execution_count": 78,
   "metadata": {},
   "outputs": [
    {
     "name": "stderr",
     "output_type": "stream",
     "text": [
      "C:\\Users\\uriel\\AppData\\Local\\Temp\\ipykernel_4012\\946135484.py:5: DeprecationWarning: executable_path has been deprecated, please pass in a Service object\n",
      "  driver = webdriver.Chrome(path_to_chromedriver, options = options)\n"
     ]
    }
   ],
   "source": [
    "# INICIARLIZAR EL WEB DRIVER (NAVEGADOR)\n",
    "options = webdriver.ChromeOptions()\n",
    "options.add_argument('start-maximized')\n",
    "options.binary_location = path_to_chrome_executable\n",
    "driver = webdriver.Chrome(path_to_chromedriver, options = options)\n",
    "driver.get('https://ar.pinterest.com/')"
   ]
  },
  {
   "cell_type": "code",
   "execution_count": 79,
   "metadata": {},
   "outputs": [
    {
     "name": "stdout",
     "output_type": "stream",
     "text": [
      "Tiempo transcurrido:  26.76047968864441  segundos.\n"
     ]
    }
   ],
   "source": [
    "tiempo_inicio = time.time()\n",
    "\n",
    "# 1. INICIAR SESION EN PINTEREST\n",
    "login_button = WebDriverWait(driver, 10).until(\n",
    "    EC.element_to_be_clickable((By.XPATH, \"//div[contains(text(), 'Iniciar sesión')]\"))\n",
    ")\n",
    "login_button.click()\n",
    "\n",
    "# Encuentra los campos de usuario y contraseña\n",
    "username_field = driver.find_element(By.NAME, 'id')\n",
    "password_field = driver.find_element(By.NAME, 'password')\n",
    "\n",
    "# Envia los valores al campo\n",
    "username_field.send_keys(pinterest_username)\n",
    "password_field.send_keys(pinterest_password)\n",
    "\n",
    "sleep(2)\n",
    "\n",
    "password_field.send_keys(Keys.ENTER)\n",
    "\n",
    "sleep(2)\n",
    "\n",
    "crear_button = WebDriverWait(driver, 10).until(\n",
    "    EC.element_to_be_clickable((By.XPATH, \"//span[contains(text(), 'Crear')]\"))\n",
    ")\n",
    "crear_button.click()\n",
    "\n",
    "crear_pin_button = WebDriverWait(driver, 10).until(\n",
    "    EC.element_to_be_clickable((By.XPATH, \"//span[contains(text(), 'Crear Pin')]\"))\n",
    ")\n",
    "crear_pin_button.click()\n",
    "\n",
    "sleep(2)\n",
    "\n",
    "fotos = os.listdir('C:/Documents/Pinterest Project/fotos')[:20]\n",
    "last_one = fotos[-1]\n",
    "for i in range(len(fotos) - 1):\n",
    "    file_input = driver.find_element(By.XPATH, \"//input[@aria-label='Carga de archivo']\")\n",
    "    file_input.send_keys('C:/Documents/Pinterest Project/fotos/' + fotos[i])\n",
    "    #sleep(2)\n",
    "    boton = driver.find_element(By.XPATH, '//button[@style=\"background-color: rgb(255, 255, 255); border: 0px; border-radius: 8px; box-sizing: border-box; cursor: pointer; height: 60px; outline: none; padding: 0px; width: 40px;\"]')\n",
    "    # Haz clic en el botón\n",
    "    boton.click()\n",
    "    sleep(0.7)\n",
    "\n",
    "file_input = driver.find_element(By.XPATH, \"//input[@aria-label='Carga de archivo']\")\n",
    "file_input.send_keys('C:/Documents/Pinterest Project/fotos/' + last_one)\n",
    "\n",
    "sleep(2)\n",
    "\n",
    "tick_button = driver.find_element(By.XPATH, '//button[@aria-label=\"Seleccionar Pin\"]')\n",
    "tick_button.click()\n",
    "\n",
    "sleep(1)\n",
    "\n",
    "select_all = driver.find_element(By.XPATH, '//div[contains(text(), \"Seleccionar todo\")]')\n",
    "select_all.click()\n",
    "\n",
    "sleep(1)\n",
    "\n",
    "select_all = driver.find_element(By.XPATH, '//button[@aria-label=\"Editar\"]')\n",
    "select_all.click()\n",
    "\n",
    "sleep(1)\n",
    "\n",
    "title = driver.find_element(By.XPATH, '//input[@id=\"pin-builder-edit-modal-title\"]')\n",
    "title.send_keys('Este es el titulo')\n",
    "\n",
    "sleep(0.4)\n",
    "\n",
    "desc = driver.find_element(By.XPATH, '//textarea[@id=\"pin-builder-edit-modal-description\"]')\n",
    "desc.send_keys('Esta es la descripción')\n",
    "\n",
    "sleep(0.4)\n",
    "\n",
    "link = driver.find_element(By.XPATH, '//input[@id=\"pin-builder-edit-modal-link\"]')\n",
    "link.send_keys('https://www.amazon.com/')\n",
    "\n",
    "sleep(0.4)\n",
    "\n",
    "update_info_button = driver.find_element(By.XPATH, '//div[contains(text(), \"Actualizar información\")]')\n",
    "update_info_button.click()\n",
    "\n",
    "sleep(1)\n",
    "\n",
    "publish_button = driver.find_element(By.XPATH, '//div[contains(text(), \"Publicar\")]')\n",
    "publish_button.click()\n",
    "\n",
    "tiempo_fin = time.time()\n",
    "\n",
    "print(\"Tiempo transcurrido: \", tiempo_fin - tiempo_inicio,\" segundos.\")"
   ]
  }
 ],
 "metadata": {
  "kernelspec": {
   "display_name": "env",
   "language": "python",
   "name": "python3"
  },
  "language_info": {
   "codemirror_mode": {
    "name": "ipython",
    "version": 3
   },
   "file_extension": ".py",
   "mimetype": "text/x-python",
   "name": "python",
   "nbconvert_exporter": "python",
   "pygments_lexer": "ipython3",
   "version": "3.10.11"
  },
  "orig_nbformat": 4
 },
 "nbformat": 4,
 "nbformat_minor": 2
}
